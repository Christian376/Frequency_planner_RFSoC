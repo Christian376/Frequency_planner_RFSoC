{
 "cells": [
  {
   "cell_type": "code",
   "execution_count": 1,
   "metadata": {
    "extensions": {
     "jupyter_dashboards": {
      "version": 1,
      "views": {
       "grid_default": {
        "hidden": true
       },
       "report_default": {}
      }
     }
    }
   },
   "outputs": [],
   "source": [
    "from bqplot import *\n",
    "from ipywidgets import *\n",
    "import numpy as np\n"
   ]
  },
  {
   "cell_type": "markdown",
   "metadata": {
    "extensions": {
     "jupyter_dashboards": {
      "version": 1,
      "views": {
       "grid_default": {
        "col": 0,
        "height": 5,
        "row": 1,
        "width": 7
       },
       "report_default": {}
      }
     }
    }
   },
   "source": [
    "# Frequency planning tool for RFSoC devices"
   ]
  },
  {
   "cell_type": "markdown",
   "metadata": {
    "extensions": {
     "jupyter_dashboards": {
      "version": 1,
      "views": {
       "grid_default": {
        "col": 0,
        "height": 12,
        "row": 6,
        "width": 6
       },
       "report_default": {}
      }
     }
    }
   },
   "source": [
    "This Jupyter notebook contains the following:\n",
    "   \n",
    "    1) RF Analogue to Digital frequency plan chart\n",
    "    2) RF Digital to Analogue frequency plan chart\n",
    "    3) Digital Down Conversion Spectrum\n",
    "    4) Digital Up Conversion Spectrum\n",
    "\n",
    "These tools will allow the user to create an in depth frequency plan for any RF project"
   ]
  },
  {
   "cell_type": "markdown",
   "metadata": {
    "extensions": {
     "jupyter_dashboards": {
      "version": 1,
      "views": {
       "grid_default": {
        "col": 0,
        "height": 6,
        "row": 18,
        "width": 12
       },
       "report_default": {}
      }
     }
    }
   },
   "source": [
    "# 1) RFADC Frequency chart"
   ]
  },
  {
   "cell_type": "markdown",
   "metadata": {
    "extensions": {
     "jupyter_dashboards": {
      "version": 1,
      "views": {
       "grid_default": {
        "col": 0,
        "height": 4,
        "row": 24,
        "width": 6
       },
       "report_default": {}
      }
     }
    }
   },
   "source": [
    "The following chart provides the relevant information required for the RFADC process. "
   ]
  },
  {
   "cell_type": "markdown",
   "metadata": {
    "extensions": {
     "jupyter_dashboards": {
      "version": 1,
      "views": {
       "grid_default": {
        "col": 0,
        "height": 8,
        "row": 28,
        "width": 6
       },
       "report_default": {}
      }
     }
    }
   },
   "source": [
    "Move the FS slider to change the sampling frequency to desired level\n",
    "\n",
    "Move the Signal center slider to select the center of your signal band\n",
    "\n",
    "Finally move the Signal bandwidth slider to select the width of your received signal"
   ]
  },
  {
   "cell_type": "code",
   "execution_count": 2,
   "metadata": {
    "extensions": {
     "jupyter_dashboards": {
      "version": 1,
      "views": {
       "grid_default": {
        "hidden": true
       },
       "report_default": {}
      }
     }
    }
   },
   "outputs": [],
   "source": [
    "def Plot_RFADC(Fs,Signal_Center,Signal_Bandwidth):\n",
    "   \n",
    "    Nyquist = float(Fs / 2)      #Calculate Nyquist rate\n",
    "    Fin_Lower = Signal_Center-(Signal_Bandwidth/2) #Calculate lower bound of received frequency\n",
    "    Fin_Higher = Signal_Center+(Signal_Bandwidth/2) #Calculate upper bound of received frequency\n",
    "    \n",
    "    if  Nyquist < Fin_Lower:                #If lower bound is greater than the nyquist, calculate alias to display in 1st Ny Z\n",
    "        Fin_Higher_Alias = (Fin_Higher-Fs)  #Subtract Fs for aliased frequency\n",
    "        Fin_Lower_Alias = (Fin_Lower-Fs)\n",
    "        \n",
    "        if Fin_Higher_Alias <= 0:              # If signal is negative multiply by -1 for mirror in 1st Nyquist\n",
    "            Fin_Higher_U = Fin_Lower_Alias*-1\n",
    "            Fin_Lower_U = Fin_Higher_Alias*-1\n",
    "        \n",
    "        else:\n",
    "            \n",
    "            Fin_Lower_U = Fin_Lower_Alias     # If signal is positive then use aliased frequencies without mirror\n",
    "            Fin_Higher_U=Fin_Higher_Alias\n",
    "        \n",
    "    else:\n",
    "        Fin_Lower_U = Fin_Lower               # If signal is less than Nyquist then use values directly, ie not aliased\n",
    "    \n",
    "        Fin_Higher_U=Fin_Higher\n",
    "        \n",
    "    if Fin_Higher_U > Nyquist:\n",
    "        Fin_Higher_U = Nyquist\n",
    "        \n",
    "    if Fin_Lower_U < 0:\n",
    "        Fin_Lower_U = 0\n",
    "        \n",
    "    HDlist = [] #Create a list for storing HDn values from for loop\n",
    "\n",
    "\n",
    "    for n in range(2,6,1): #For loop ranging from 2-6, calculates HD2 HD3 HD4 HD5\n",
    "\n",
    "     if (Fin_Lower_U*n)-Fs + Signal_Bandwidth < -1*Nyquist: #K=0 when equation is less Nyquist *-1 as rhs = negative\n",
    "         K = 0\n",
    "\n",
    " \n",
    "     elif (Fin_Lower_U*n)-Fs + Signal_Bandwidth < Nyquist: \n",
    "        K=1\n",
    "     \n",
    "     elif (Fin_Lower_U*n)-Fs + Signal_Bandwidth> Nyquist: \n",
    "            K=2\n",
    "    \n",
    "     HDn_Lower = (Fin_Lower_U * n) - (Fs * K);    #Calculate lower HD bound\n",
    "     HDn_Higher = (Fin_Higher_U * n) - (Fs * K);  #Calculate higher HD bound\n",
    " \n",
    "\n",
    "     if HDn_Higher <= 0:        #IF HDn is negative, mirror result \n",
    "\n",
    "                 Mirror_HDn_Lower = HDn_Lower * -1;\n",
    "                 Mirror_HDn_Higher = HDn_Higher * -1;\n",
    "\n",
    "           #  print(\"mirrorRange of HD\",n, \"is\", Mirror_HDn_Higher, \"to\", Mirror_HDn_Lower); # print range\n",
    "                 temp_list = (Mirror_HDn_Higher, Mirror_HDn_Lower) \n",
    "                 HDlist.append(temp_list)        #Update list with calculated values                 \n",
    "     else:\n",
    "            # print(\"Range of HD\",n, \" is\", HDn_Lower, \"to\", HDn_Higher); #Print range\n",
    "                 temp_list = (HDn_Lower, HDn_Higher)\n",
    "                 HDlist.append(temp_list)        #Update list with calculated values\n",
    "                    \n",
    "                    \n",
    "    fsd2m2= [(Fs/2)-HDlist[0][1], (Fs/2)-HDlist[0][0]]    #Calculate Fs/2 - HD2\n",
    "#print(fsd2m2)\n",
    "\n",
    "    fsd2m3= [(Fs/2)-HDlist[1][1], (Fs/2)-HDlist[1][0]]    #Calculate Fs/2 - HD3\n",
    "#print(fsd2m3)\n",
    "\n",
    "    fsd4m3= [((Fs/4)-HDlist[1][0]), ((Fs/4)-HDlist[1][1])]    #Calculate Fs/4 - HD3   \n",
    "#print(\"check\",fsd4m3)\n",
    "\n",
    "    fsd4p3= [(Fs/4)+HDlist[1][0], (Fs/4)+HDlist[1][1]]    #Calculate Fs/4 + HD3\n",
    "#print(\"check\",fsd4p3)\n",
    "\n",
    "    fsd8p2= [(Fs/8)+HDlist[0][0], (Fs/8)+HDlist[0][1]]    #Calculate Fs/8 + HD2\n",
    "#print(fsd8p2)\n",
    "\n",
    "    fsd8m2= [(Fs/8)+HDlist[0][0], (Fs/8)+HDlist[0][1]]\n",
    "\n",
    "    fsd8p3= [(Fs/8)+HDlist[1][0], (Fs/8)+HDlist[1][1]]    #Calculate Fs/8 + HD3\n",
    "#print(fsd8p3)\n",
    "\n",
    "    fsd8m3= [(Fs/8)-HDlist[1][0], (Fs/8)-HDlist[1][1]]\n",
    "\n",
    "    fsd4m2= [(Fs/4)-HDlist[0][1], (Fs/4)-HDlist[0][0]]   #Results in error\n",
    "#print(fsd4m2)\n",
    "\n",
    "    fsd4p2= [(Fs/4)+HDlist[0][0], (Fs/4)+HDlist[0][1]]   #Results in error\n",
    "#print(fsd4p2)\n",
    "\n",
    "\n",
    "    if fsd2m2[1] <= 0:                       #Mirror interleaved spurs if they are negative\n",
    "        fsd2m2=[fsd2m2[0]*-1,fsd2m2[1]*-1]\n",
    "    \n",
    "    if fsd2m3[1] <= 0:\n",
    "        fsd2m3=[fsd2m3[0]*-1,fsd2m3[1]*-1]\n",
    "    \n",
    "    if fsd4m2[1] <= 0:\n",
    "        fsd4m2=[fsd4m2[0]*-1,fsd4m2[1]*-1]\n",
    "    \n",
    "    if fsd4p2[1] <= 0:\n",
    "        fsd4p2=[fsd4p2[0]*-1,fsd4p2[1]*-1]\n",
    "    \n",
    "    if fsd4m3[1] <= 0:\n",
    "        fsd4m3=[fsd4m3[0]*-1,fsd4m3[1]*-1]\n",
    "\n",
    "    if fsd4p3[1] <= 0:\n",
    "        fsd4m3=[fsd4p3[0]*-1,fsd4p3[1]*-1]\n",
    " \n",
    "    if fsd8m2[1] <= 0:\n",
    "        fsd8m2=[fsd8m2[0]*-1,fsd8m2[1]*-1]\n",
    "\n",
    "    if fsd8p2[1] <= 0: \n",
    "        fsd8p2=[fsd8p2[0]*-1,fsd8p2[1]*-1]\n",
    "\n",
    "    if fsd8m3[1] <= 0:\n",
    "        fsd8m3=[fsd8m3[0]*-1,fsd8m3[1]*-1]\n",
    "\n",
    "    if fsd8p3[1] <= 0:\n",
    "        fsd8p3=[fsd8p3[0]*-1,fsd8p3[1]*-1]\n",
    "\n",
    "\n",
    "#If lower bound is negative set = 0\n",
    "\n",
    "    if fsd2m2[0]<0:\n",
    "        fsd2m2[0]=0\n",
    "    if fsd2m3[0]<0:\n",
    "        fsd2m3[0]=0\n",
    "    if fsd4m2[0]<0:\n",
    "        fsd4m2[0]=0\n",
    "    if fsd4p2[0]<0:\n",
    "        fsd4p2[0]=0\n",
    "    if fsd4m3[0]<0:\n",
    "        fsd4m3[0]=0\n",
    "    if fsd4p3[0]<0:\n",
    "        fsd4p3[0]=0\n",
    "    if fsd8p2[0]<0:\n",
    "        fsd8p2[0]=0\n",
    "    if fsd8m2[0]<0:\n",
    "        fsd8m2[0]=0\n",
    "    if fsd8p3[0]<0:\n",
    "        fsd8p3[0]=0\n",
    "    if fsd8m3[0]<0:\n",
    "        fsd8m3[0]=0\n",
    "        \n",
    "    if fsd2m2[1]>Nyquist:\n",
    "        fsd2m2[1]=Nyquist\n",
    "    if fsd2m3[1]>Nyquist:\n",
    "        fsd2m3[1]=Nyquist\n",
    "    if fsd4m2[1]>Nyquist:\n",
    "        fsd4m2[1]=Nyquist\n",
    "    if fsd4p2[1]>Nyquist:\n",
    "        fsd4p2[1]=Nyquist\n",
    "    if fsd4m3[1]>Nyquist:\n",
    "        fsd4m3[1]=Nyquist\n",
    "    if fsd4p3[1]>Nyquist:\n",
    "        fsd4p3[1]=Nyquist\n",
    "    if fsd8p2[1]>Nyquist:\n",
    "        fsd8p2[1]=Nyquist\n",
    "    if fsd8m2[1]>Nyquist:\n",
    "        fsd8m2[1]=Nyquist\n",
    "    if fsd8p3[1]>Nyquist:\n",
    "        fsd8p3[1]=Nyquist\n",
    "    if fsd8m3[1]>Nyquist:\n",
    "        fsd8m3[1]=Nyquist\n",
    "    \n",
    "    x=fsd2m2[0]        \n",
    "    y=fsd2m3[0]\n",
    "    z=fsd4m2[0]\n",
    "\n",
    "    #Create array for plotting later\n",
    "    Interleaved_spur_array=[fsd2m2,fsd2m3,fsd4m2,fsd4p2,fsd4m3,fsd4p3,fsd8p2,fsd8m2,fsd8p3,fsd8m3]\n",
    "    \n",
    "    #print(Interleaved_spur_array)\n",
    "                    \n",
    "    #This section of code sets coordinates used to graph the results\n",
    "    \n",
    "\n",
    "        \n",
    "    Fin = [Fin_Lower_U, Fin_Higher_U]\n",
    "    #print(Fin_Lower_U)\n",
    "    #print(Fin_Higher_U)\n",
    "    #print(Fin)\n",
    "    Nyquist1 = [Nyquist,Nyquist]\n",
    "    \n",
    "    NyHD2 = HDlist[0][1]\n",
    "    NyHD3 = HDlist[1][1]\n",
    "    NyHD4 = HDlist[2][1]\n",
    "    NyHD5 = HDlist[3][1] \n",
    "    \n",
    "    Zero_HD2 = HDlist[0][0]\n",
    "    Zero_HD3 = HDlist[1][0]\n",
    "    Zero_HD4 = HDlist[2][0]\n",
    "    Zero_HD5 = HDlist[3][0]\n",
    "    \n",
    "    #if Zero_HD2 < 0:\n",
    "     #   Zero_HD2 = 0\n",
    "    #if Zero_HD3 < 0:\n",
    "     #   Zero_HD3 = 0\n",
    "    #if Zero_HD4 < 0:\n",
    "     #   Zero_HD4 = 0\n",
    "    #if Zero_HD5 < 0:\n",
    "     #   Zero_HD5 = 0\n",
    "        \n",
    "    if NyHD2 > Nyquist:\n",
    "        NyHD2=Nyquist\n",
    "    if NyHD3 > Nyquist:\n",
    "        NyHD3=Nyquist\n",
    "    if NyHD4 > Nyquist:\n",
    "        NyHD4=Nyquist\n",
    "    if NyHD5 > Nyquist:\n",
    "        NyHD5=Nyquist\n",
    "\n",
    "    HD2 = [Zero_HD2, NyHD2]    #This accesses the values stored in the list\n",
    "    HD3 = [Zero_HD3, NyHD3]\n",
    "    HD4 = [Zero_HD4, NyHD4]\n",
    "    HD5 = [Zero_HD5, NyHD5]\n",
    "\n",
    "    HD2_lower = str(HDlist[0][0])\n",
    "    HD2_Higher = str(HDlist[0][1])\n",
    "\n",
    "    #y-coordinates\n",
    "    n1 = [5]\n",
    "    n2 = [2,2]\n",
    "    n25 = [2.5, 2.5]\n",
    "    n3 = [3,3]\n",
    "    n35 = [3.5,3.5]\n",
    "    n4 = [4,4]\n",
    "    n5 = [5,5]\n",
    "    nn = [5,0]\n",
    "    \n",
    "    #Set x and y data used for plotting\n",
    "    x_data = [HD2, HD3, HD4, HD5]\n",
    "    y_data = [n2, n3, n4, n5]\n",
    "    y_inter_spurs =[n25,n35,n25,n25,n35,n35,n25,n25,n35,n35]\n",
    "    \n",
    "    \n",
    "    x_sc = LinearScale()\n",
    "    y_sc = LinearScale()\n",
    "    ax_x = Axis(label='Frequency(MHz)', scale=x_sc, tick_format='0.0f')\n",
    "    ax_y = Axis(label='Harmonic numbers', scale=y_sc,\n",
    "               orientation='vertical', tick_format='0.2f')\n",
    "    \n",
    "    #Create lines for plotting\n",
    "    spurs = Lines(x=x_data,y=y_data,scales={'x': x_sc, 'y': y_sc}, colors=['red','cyan','green','yellow','pink'],enable_move=False,\n",
    "                   hovered_style={'opacity': 1.0, 'fill': 'DarkOrange', 'stroke': 'Red'},\n",
    "                   unhovered_style={'opacity': 0.5})\n",
    "    Fin_horz_plot = Lines(x=Fin,y=n5,scales={'x': x_sc, 'y': y_sc},colors=['blue'])\n",
    "    Fin_vert1_plot = Lines(x=[Fin_Lower_U,Fin_Lower_U],y=nn,scales={'x': x_sc, 'y': y_sc},colors=['blue'])\n",
    "    Fin_vert2_plot = Lines(x=[Fin_Higher_U,Fin_Higher_U],y=nn,scales={'x': x_sc, 'y': y_sc},colors=['blue'])\n",
    "    Nyquist_plot = Lines(x=Nyquist1,y=nn,scales={'x': x_sc, 'y': y_sc},colors=['red'])\n",
    "    interleaved_spurs = Lines(x=Interleaved_spur_array,y=y_inter_spurs,scales={'x': x_sc, 'y': y_sc})\n",
    "    \n",
    "    tt = Tooltip(fields=['x', 'y'], formats=['', '.2f'], labels=['Frequency', 'harmonic number'])\n",
    "    tt2 = Tooltip(fields=['x', 'y'], formats=['', '.2f'], labels=['Frequency', 'harmonic number'])\n",
    "    tt3 = Tooltip(fields=['x'], formats=[''], labels=['Signal Frequency'])\n",
    "    Nyquisttt = Tooltip(fields=['x'], formats=[''], labels=['Nyquist Frequency'])\n",
    "    \n",
    "    spurs.marker='square'\n",
    "    interleaved_spurs.marker='square'\n",
    "    Fin_horz_plot.marker='square'\n",
    "    Nyquist_plot.marker='square'\n",
    "    #Plot\n",
    "    fig = Figure(title='RFADC frequency plan',axes=[ax_x, ax_y], marks=[Fin_horz_plot,Fin_vert1_plot, Fin_vert2_plot,spurs,Nyquist_plot])\n",
    "    spurs.tooltip=tt\n",
    "    interleaved_spurs.tooltip=tt2\n",
    "    Fin_horz_plot.tooltip=tt3\n",
    "    Nyquist_plot.tooltip=Nyquisttt\n",
    "    tools=Toolbar(figure=fig)\n",
    "\n",
    "    display(fig,tools)"
   ]
  },
  {
   "cell_type": "code",
   "execution_count": 3,
   "metadata": {
    "extensions": {
     "jupyter_dashboards": {
      "version": 1,
      "views": {
       "grid_default": {
        "col": 6,
        "height": 7,
        "row": 28,
        "width": 4
       },
       "report_default": {}
      }
     }
    }
   },
   "outputs": [
    {
     "data": {
      "application/vnd.jupyter.widget-view+json": {
       "model_id": "450764fef5f94a0394b6ae67fa936e88",
       "version_major": 2,
       "version_minor": 0
      },
      "text/plain": [
       "interactive(children=(FloatSlider(value=3932.16, description='Fs', max=4000.0, min=1900.0, step=100.0), FloatS…"
      ]
     },
     "metadata": {},
     "output_type": "display_data"
    },
    {
     "data": {
      "text/plain": [
       "<function __main__.Plot_RFADC(Fs, Signal_Center, Signal_Bandwidth)>"
      ]
     },
     "execution_count": 3,
     "metadata": {},
     "output_type": "execute_result"
    }
   ],
   "source": [
    "Fs_slider = widgets.FloatSlider(value=3932.16,min=1900,max=4000,step=100)\n",
    "Signal_Center_slider = widgets.FloatSlider(value=3932.16,min=100,max=4000,step=50)\n",
    "Signal_Bandwidth_slider = widgets.FloatSlider(value=100,min=50,max=200,step=50)\n",
    "widgets.interact(Plot_RFADC,Fs=Fs_slider,Signal_Center=Signal_Center_slider,Signal_Bandwidth=Signal_Bandwidth_slider)"
   ]
  },
  {
   "cell_type": "markdown",
   "metadata": {
    "extensions": {
     "jupyter_dashboards": {
      "version": 1,
      "views": {
       "grid_default": {
        "col": 0,
        "height": 5,
        "row": 43,
        "width": 12
       },
       "report_default": {}
      }
     }
    }
   },
   "source": [
    "# 2) RFDAC frequency plan"
   ]
  },
  {
   "cell_type": "markdown",
   "metadata": {
    "extensions": {
     "jupyter_dashboards": {
      "version": 1,
      "views": {
       "grid_default": {
        "col": 0,
        "height": 3,
        "row": 50,
        "width": 12
       },
       "report_default": {}
      }
     }
    }
   },
   "source": [
    "The following chart provides the relevant information required for the RFDAC process."
   ]
  },
  {
   "cell_type": "markdown",
   "metadata": {
    "extensions": {
     "jupyter_dashboards": {
      "version": 1,
      "views": {
       "grid_default": {
        "col": 0,
        "height": 8,
        "row": 53,
        "width": 6
       },
       "report_default": {}
      }
     }
    }
   },
   "source": [
    "Move the FS slider to change the sampling frequency to desired level\n",
    "\n",
    "Move the Signal center slider to select the center of your signal band\n",
    "\n",
    "Finally move the Signal bandwidth slider to select the width of your received signal"
   ]
  },
  {
   "cell_type": "code",
   "execution_count": 4,
   "metadata": {
    "extensions": {
     "jupyter_dashboards": {
      "version": 1,
      "views": {
       "grid_default": {
        "hidden": true
       },
       "report_default": {}
      }
     }
    }
   },
   "outputs": [],
   "source": [
    "def Plot_RFDAC(Fs,Signal_Center,Signal_Bandwidth):\n",
    "   \n",
    "    Nyquist = float(Fs / 2)      #Calculate Nyquist rate\n",
    "    Fin_Lower = Signal_Center-(Signal_Bandwidth/2) #Calculate lower bound of received frequency\n",
    "    Fin_Higher = Signal_Center+(Signal_Bandwidth/2) #Calculate upper bound of received frequency\n",
    "    \n",
    "    if Signal_Center == Nyquist:\n",
    "        Fin_image_low = 0 - Signal_Bandwidth/2\n",
    "        Fin_image_high = 0 + Signal_Bandwidth/2\n",
    "        \n",
    "    if  Nyquist < Fin_Lower:                #If lower bound is greater than the nyquist, calculate alias to display in 1st Ny Z\n",
    "        Fin_Higher_Alias = (Fin_Higher-Fs)  #Subtract Fs for aliased frequency\n",
    "        Fin_Lower_Alias = (Fin_Lower-Fs)\n",
    "        \n",
    "        if Fin_Higher_Alias <= 0:              # If signal is negative multiply by -1 for mirror in 1st Nyquist\n",
    "            Fin_Higher_U = Fin_Lower_Alias*-1\n",
    "            Fin_Lower_U = Fin_Higher_Alias*-1\n",
    "        \n",
    "        else:\n",
    "            \n",
    "            Fin_Lower_U = Fin_Lower_Alias     # If signal is positive then use aliased frequencies without mirror\n",
    "            Fin_Higher_U=Fin_Higher_Alias\n",
    "        \n",
    "    else:\n",
    "        Fin_Lower_U = Fin_Lower               # If signal is less than Nyquist then use values directly, ie not aliased\n",
    "    \n",
    "        Fin_Higher_U=Fin_Higher\n",
    "        \n",
    "            \n",
    "    if Fin_Higher_U > Nyquist:\n",
    "        Fin_Higher_U = Nyquist\n",
    "        \n",
    "    if Fin_Lower_U < 0:\n",
    "        Fin_Lower_U = 0\n",
    "        \n",
    "        \n",
    "    Fin_image_low = Fin_Lower - Fs\n",
    "    if Fin_image_low < 0:\n",
    "        Fin_image_low = Fin_image_low*-1\n",
    "        \n",
    "    Fin_image_high = Fin_Higher - Fs\n",
    "    if Fin_image_high < 0:\n",
    "        Fin_image_high = Fin_image_high* -1\n",
    "        \n",
    "\n",
    "    HDlist = [] #Create a list for storing HDn values from for loop\n",
    "\n",
    "\n",
    "    for n in range(2,6,1): #For loop ranging from 2-6, calculates HD2 HD3 HD4 HD5\n",
    "\n",
    "     if (Fin_Lower_U*n)-Fs + Signal_Bandwidth < -1*Nyquist: #K=0 when equation is less Nyquist *-1 as rhs = negative\n",
    "         K = 0\n",
    "\n",
    " \n",
    "     elif (Fin_Lower_U*n)-Fs + Signal_Bandwidth < Nyquist: \n",
    "        K=1\n",
    "     \n",
    "     elif (Fin_Lower_U*n)-Fs + Signal_Bandwidth> Nyquist: \n",
    "            K=2\n",
    "    \n",
    "     HDn_Lower = (Fin_Lower_U * n) - (Fs * K);    #Calculate lower HD bound\n",
    "     HDn_Higher = (Fin_Higher_U * n) - (Fs * K);  #Calculate higher HD bound\n",
    " \n",
    "\n",
    "     if HDn_Higher <= 0:        #IF HDn is negative, mirror result \n",
    "\n",
    "                 Mirror_HDn_Lower = HDn_Lower * -1;\n",
    "                 Mirror_HDn_Higher = HDn_Higher * -1;\n",
    "\n",
    "                 \n",
    "\n",
    "           #  print(\"mirrorRange of HD\",n, \"is\", Mirror_HDn_Higher, \"to\", Mirror_HDn_Lower); # print range\n",
    "                 temp_list = (Mirror_HDn_Higher, Mirror_HDn_Lower) \n",
    "                 HDlist.append(temp_list)        #Update list with calculated values                 \n",
    "     else:\n",
    "            # print(\"Range of HD\",n, \" is\", HDn_Lower, \"to\", HDn_Higher); #Print range\n",
    "                 temp_list = (HDn_Lower, HDn_Higher)\n",
    "                 HDlist.append(temp_list)        #Update list with calculated values\n",
    "   \n",
    "\n",
    "\n",
    "    HDlist2 = [] #Create a list for storing HDn Nyquist 2 values from for loop\n",
    "\n",
    "\n",
    "    for n in range(2,6,1): #For loop ranging from 2-6, calculates HD2 HD3 HD4 HD5 Nyquist 2\n",
    "\n",
    "     if (Fin_Lower_U*n)-Fs + Signal_Bandwidth < -1*Nyquist: #K=0 when equation is less Nyquist *-1 as rhs = negative\n",
    "         K = 1\n",
    "\n",
    " \n",
    "     if (Fin_Lower_U*n)-Fs + Signal_Bandwidth < Nyquist: \n",
    "        K=2\n",
    "            \n",
    "    \n",
    "     if (Fin_Lower_U*n)-Fs + Signal_Bandwidth > Nyquist:\n",
    "            K=3\n",
    "       \n",
    "    \n",
    "     if (Fin_Lower_U*n)-Fs - Signal_Bandwidth <= -1*Nyquist:\n",
    "            K=1\n",
    "    \n",
    "     test = (Fin_Lower_U*n)-Fs+Signal_Bandwidth\n",
    "     print(test)\n",
    "     print(K)\n",
    "     HDn_Lower = (Fin_Lower_U * n) - (Fs * K);    #Calculate lower HD bound\n",
    "     HDn_Higher = (Fin_Higher_U * n) - (Fs * K);  #Calculate higher HD bound\n",
    " \n",
    "\n",
    "     if HDn_Higher <= 0:        #IF HDn is negative, mirror result \n",
    "\n",
    "                 Mirror_HDn_Lower = HDn_Lower * -1;\n",
    "                 Mirror_HDn_Higher = HDn_Higher * -1;\n",
    "\n",
    "                 \n",
    "\n",
    "           #  print(\"mirrorRange of HD\",n, \"is\", Mirror_HDn_Higher, \"to\", Mirror_HDn_Lower); # print range\n",
    "                 temp_list2 = (Mirror_HDn_Higher, Mirror_HDn_Lower) \n",
    "                 HDlist2.append(temp_list2)        #Update list with calculated values                 \n",
    "     else:\n",
    "            # print(\"Range of HD\",n, \" is\", HDn_Lower, \"to\", HDn_Higher); #Print range\n",
    "                 temp_list2 = (HDn_Lower, HDn_Higher)\n",
    "                 HDlist2.append(temp_list2)        #Update list with calculated values\n",
    "\n",
    "                    \n",
    "    #This section of code sets coordinates used to graph the result\n",
    "\n",
    "\n",
    "    Fin_image=[Fin_image_low, Fin_image_high]    \n",
    "    Fin_original = [Fin_Lower, Fin_Higher]\n",
    "    print(Fin_Lower_U)\n",
    "    print(Fin_Higher_U)\n",
    "    print(\"image\",Fin_image)\n",
    "    print(Fin_Lower)\n",
    "    print(Fin_Higher)\n",
    "    print(Fin_original)\n",
    "    Nyquist1 = [Nyquist,Nyquist]\n",
    "    \n",
    "    NyHD2 = HDlist[0][1]\n",
    "    NyHD3 = HDlist[1][1]\n",
    "    NyHD4 = HDlist[2][1]\n",
    "    NyHD5 = HDlist[3][1] \n",
    "    \n",
    "    \n",
    "    if NyHD2 > Nyquist:\n",
    "        NyHD2=Nyquist\n",
    "    if NyHD3 > Nyquist:\n",
    "        NyHD3=Nyquist\n",
    "    if NyHD4 > Nyquist:\n",
    "        NyHD4=Nyquist\n",
    "    if NyHD5 > Nyquist:\n",
    "        NyHD5=Nyquist\n",
    "\n",
    "    HD2 = [HDlist[0][0], NyHD2]    #This accesses the values stored in the list\n",
    "    HD3 = [HDlist[1][0], NyHD3]\n",
    "    HD4 = [HDlist[2][0], NyHD4]\n",
    "    HD5 = [HDlist[3][0], NyHD5]\n",
    "    \n",
    "    NyHD2_2 = HDlist2[0][0]\n",
    "    NyHD3_2 = HDlist2[1][0]\n",
    "    NyHD4_2 = HDlist2[2][0]\n",
    "    NyHD5_2 = HDlist2[3][0] \n",
    "    \n",
    "    FsHD2_2 = HDlist2[0][1]\n",
    "    FsHD2_3 = HDlist2[1][1]\n",
    "    FsHD2_4 = HDlist2[2][1]\n",
    "    FsHD2_5 = HDlist2[3][1]\n",
    "    \n",
    "    print (\"hd2 one\",FsHD2_2)\n",
    "    print(\"Hd2 two\", NyHD2_2)\n",
    "    \n",
    "    if NyHD2_2 < Nyquist:\n",
    "        NyHD2_2=Nyquist\n",
    "    if NyHD3_2 < Nyquist:\n",
    "        NyHD3_2=Nyquist\n",
    "    if NyHD4_2 < Nyquist:\n",
    "        NyHD4_2=Nyquist\n",
    "    if NyHD5_2 < Nyquist:\n",
    "        NyHD5_2=Nyquist\n",
    "        \n",
    "    if NyHD2_2 == Fs:\n",
    "        Fv= FsHD2_2 - Fs\n",
    "        FsHD2_2 = Fs-Fv\n",
    "    if NyHD3_2 == Fs:\n",
    "        Ft= FsHD3_2 - Fs\n",
    "        FsHD2_3 = Fs-Ft\n",
    "    if NyHD4_2 == Fs:\n",
    "        Fu= FsHD2_4 - Fs\n",
    "        FsHD2_4 = Fs-Fu\n",
    "    if NyHD5_2 == Fs:\n",
    "        Fp= FsHD5_2 - Fs\n",
    "        FsHD2_5 = Fs-Fp\n",
    "    \n",
    "\n",
    "    HD22 = [NyHD2_2,FsHD2_2]    #This accesses the values stored in the list\n",
    "    HD32 = [NyHD3_2,FsHD2_3]\n",
    "    HD42 = [NyHD4_2,FsHD2_4]\n",
    "    HD52 = [NyHD5_2,FsHD2_5]\n",
    "    \n",
    "    \n",
    "    print(HD22)\n",
    "    print(HD42)\n",
    "    print(HD52)\n",
    "\n",
    "    HD2_lower = str(HDlist[0][0])\n",
    "    HD2_Higher = str(HDlist[0][1])\n",
    "    \n",
    "    print(\"This is\",NyHD5_2)\n",
    "\n",
    "    #y-coordinates\n",
    "    n1 = [5]\n",
    "    n2 = [2,2]\n",
    "    n3 = [3,3]\n",
    "    n4 = [4,4]\n",
    "    n5 = [5,5]\n",
    "    nn = [5,0]\n",
    "    \n",
    "    #Set x and y data used for plotting\n",
    "    x_data = [HD2, HD3, HD4, HD5]\n",
    "    x_data2 = [HD22, HD32, HD42, HD52]\n",
    "    y_data = [n2, n3, n4, n5]\n",
    "\n",
    "    \n",
    "    \n",
    "    x_sc = LinearScale()\n",
    "    y_sc = LinearScale()\n",
    "    ax_x = Axis(label='Frequency(MHz)', scale=x_sc, tick_format='0.0f')\n",
    "    ax_y = Axis(label='Harmonic numbers', scale=y_sc,\n",
    "               orientation='vertical', tick_format='0.2f')\n",
    "    \n",
    "    #Create lines for plotting\n",
    "    spurs = Lines(x=x_data,y=y_data,scales={'x': x_sc, 'y': y_sc}, colors=['red','cyan','green','yellow','pink'],enable_move=False,\n",
    "                   hovered_style={'opacity': 1.0, 'fill': 'DarkOrange', 'stroke': 'Red'},\n",
    "                   unhovered_style={'opacity': 0.5})\n",
    "    spurs2 = Lines(x=x_data2,y=y_data,scales={'x': x_sc, 'y': y_sc}, colors=['red','cyan','green','yellow','pink'],enable_move=False,\n",
    "                   hovered_style={'opacity': 1.0, 'fill': 'DarkOrange', 'stroke': 'Red'},\n",
    "                   unhovered_style={'opacity': 0.5})\n",
    "    Fin_horz_plot = Lines(x=Fin_image,y=n5,scales={'x': x_sc, 'y': y_sc},colors=['blue'])\n",
    "    Fin_vert1_plot = Lines(x=[Fin_image_low,Fin_image_low],y=nn,scales={'x': x_sc, 'y': y_sc},colors=['blue'])\n",
    "    Fin_vert2_plot = Lines(x=[Fin_image_high,Fin_image_high],y=nn,scales={'x': x_sc, 'y': y_sc},colors=['blue'])\n",
    "    Fin_horz_plot_original = Lines(x=Fin_original,y=n5,scales={'x': x_sc, 'y': y_sc},colors=['blue'])\n",
    "    Fin_vert1_plot_original = Lines(x=[Fin_Lower,Fin_Lower],y=nn,scales={'x': x_sc, 'y': y_sc},colors=['blue'])\n",
    "    Fin_vert2_plot_original = Lines(x=[Fin_Higher,Fin_Higher],y=nn,scales={'x': x_sc, 'y': y_sc},colors=['blue'])\n",
    "    Nyquist_plot = Lines(x=Nyquist1,y=nn,scales={'x': x_sc, 'y': y_sc},colors=['red'])\n",
    "    \n",
    "    tt = Tooltip(fields=['x', 'y'], formats=['', '.2f'], labels=['Frequency', 'harmonic number'])\n",
    "    \n",
    "    tt_fim = Tooltip(fields=['x'], formats=[''], labels=['Signal Frequency image'])\n",
    "    tt3 = Tooltip(fields=['x'], formats=[''], labels=['Signal Frequency'])\n",
    "    Nyquisttt = Tooltip(fields=['x'], formats=[''], labels=['Nyquist Frequency'])\n",
    "    spurs.marker='square'\n",
    "    spurs2.marker='square'\n",
    "    Fin_horz_plot.marker='square'\n",
    "    Fin_horz_plot_original.marker='square'\n",
    "    Nyquist_plot.marker='square'\n",
    "    #Plot\n",
    "    fig = Figure(title='RFDAC frequency plan',axes=[ax_x, ax_y], marks=[Fin_horz_plot_original,Fin_vert1_plot_original,Fin_vert2_plot_original,Fin_horz_plot,Fin_vert1_plot, Fin_vert2_plot,spurs,spurs2,Nyquist_plot])\n",
    "    spurs.tooltip=tt\n",
    "    spurs2.tooltip=tt\n",
    "    Fin_horz_plot.tooltip=tt_fim\n",
    "    Fin_horz_plot_original.tooltip=tt3\n",
    "    Nyquist_plot.tooltip=Nyquisttt\n",
    "    tools=Toolbar(figure=fig)\n",
    "\n",
    "    display(fig,tools)"
   ]
  },
  {
   "cell_type": "code",
   "execution_count": 5,
   "metadata": {
    "extensions": {
     "jupyter_dashboards": {
      "version": 1,
      "views": {
       "grid_default": {
        "col": 6,
        "height": 7,
        "row": 53,
        "width": 4
       },
       "report_default": {}
      }
     }
    }
   },
   "outputs": [
    {
     "data": {
      "application/vnd.jupyter.widget-view+json": {
       "model_id": "adbcc98789fa4df3875d479e8316eecb",
       "version_major": 2,
       "version_minor": 0
      },
      "text/plain": [
       "interactive(children=(FloatSlider(value=3932.16, description='Fs', max=4000.0, min=1900.0, step=100.0), FloatS…"
      ]
     },
     "metadata": {},
     "output_type": "display_data"
    },
    {
     "data": {
      "text/plain": [
       "<function __main__.Plot_RFDAC(Fs, Signal_Center, Signal_Bandwidth)>"
      ]
     },
     "execution_count": 5,
     "metadata": {},
     "output_type": "execute_result"
    }
   ],
   "source": [
    "#Fs_slider = widgets.FloatSlider(value=3932.16,min=3900,max=4000,step=0.1)\n",
    "Signal_Center= widgets.FloatSlider(value=100,min=100,max=4000,step=50)\n",
    "Signal_Bandwidth = widgets.FloatSlider(value=100,min=50,max=200,step=50)\n",
    "widgets.interact(Plot_RFDAC,Fs=Fs_slider,Signal_Center=Signal_Center,Signal_Bandwidth=Signal_Bandwidth)"
   ]
  },
  {
   "cell_type": "markdown",
   "metadata": {
    "extensions": {
     "jupyter_dashboards": {
      "version": 1,
      "views": {
       "grid_default": {
        "col": 0,
        "height": 2,
        "row": 68,
        "width": 12
       },
       "report_default": {}
      }
     }
    }
   },
   "source": [
    "#  3) DUC Spectrum"
   ]
  },
  {
   "cell_type": "markdown",
   "metadata": {
    "extensions": {
     "jupyter_dashboards": {
      "version": 1,
      "views": {
       "grid_default": {
        "col": 0,
        "height": 2,
        "row": 70,
        "width": 12
       },
       "report_default": {}
      }
     }
    }
   },
   "source": [
    "The following spectrum will display the relevevant information for the Digital up conversion process.\n",
    "If mix mode is on Nyquist zone 2 will show the relevant spurs.\n",
    "If normal mode is on Nyquist zone 1 will show the relevant spurs. \n",
    "The spectrum shows both Nyquist zones so user does not need to make changes depending on which mode they operate."
   ]
  },
  {
   "cell_type": "markdown",
   "metadata": {},
   "source": [
    "The Fs slider will select the users desired Sampling Frequency\n",
    "The Frequency_in slider will select the desired input signal\n",
    "The NCO slider will select how much the input signal has been shifted by the NCO\n",
    "The HD2/HD3 noise sliders will select the noise level for the harmonic spurs in dB"
   ]
  },
  {
   "cell_type": "code",
   "execution_count": 6,
   "metadata": {
    "extensions": {
     "jupyter_dashboards": {
      "version": 1,
      "views": {
       "grid_default": {
        "hidden": true
       },
       "report_default": {}
      }
     }
    }
   },
   "outputs": [],
   "source": [
    "def DUC_spur_calculator(Fs, Frequency_in, NCO):\n",
    "    \n",
    "    Nyquist = float(Fs / 2)      #Calculate Nyquist rate\n",
    "    Fundamental = NCO + Frequency_in\n",
    "    F_image_calc = Fundamental - Fs\n",
    "\n",
    "    print(F_image_calc)\n",
    "    if  Nyquist < F_image_calc:\n",
    "        F_image = F_image_calc-Fs\n",
    "        F_image = F_image *-1\n",
    "    \n",
    "    \n",
    "    print(\"The freq in\", Frequency_in)\n",
    "    print(\"sample\", Fs)\n",
    "    \n",
    "    Nyquist = Fs/2 #Calculate Nyquist value\n",
    "    HDlist = [] #Create a list for storing loop values\n",
    "    \n",
    "    # Calculate K variable, K increases as conditions are met\n",
    "    \n",
    "    for n in range (2,4,1):\n",
    "       \n",
    "        print(\"fincheck\",Frequency_in*n)\n",
    "        \n",
    "        if Fundamental*n < Nyquist:\n",
    "            K = 0\n",
    "        \n",
    "        elif Fundamental*n <= Fs + Nyquist:\n",
    "            K = 1\n",
    "    \n",
    "        elif Fundamental*n <= 2*Fs + Nyquist:\n",
    "            K = 2\n",
    "        \n",
    "        elif Fundamental*n <= 3*Fs + Nyquist:\n",
    "            K = 3\n",
    "        \n",
    "        elif Fundamental*n <= 4*Fs + Nyquist:\n",
    "            K = 4\n",
    "            \n",
    "        elif Fundamental*n <= 5*Fs + Nyquist:\n",
    "            K = 5\n",
    "        else:\n",
    "            K = 6\n",
    "        \n",
    "        print(\"K check\",K)\n",
    "        HDn = (Fundamental *n) - (Fs*K)\n",
    "        \n",
    "        if HDn < 0:\n",
    "            HDn = HDn*-1\n",
    "        print(\"original\",HDn)\n",
    "\n",
    "\n",
    "        if HDn <= 0:        #IF HDn is negative, mirror result \n",
    "\n",
    "                    Mirror_HDn = HDn * -1;\n",
    "                 \n",
    "           #  print(\"mirrorRange of HD\",n, \"is\", Mirror_HDn_Higher, \"to\", Mirror_HDn_Lower); # print range\n",
    "                    temp_list = (Mirror_HDn) \n",
    "                    HDlist.append(temp_list)        #Update list with calculated values                 \n",
    "        else:\n",
    "            # print(\"Range of HD\",n, \" is\", HDn_Lower, \"to\", HDn_Higher); #Print range\n",
    "                    temp_list = (HDn)\n",
    "                    HDlist.append(temp_list)        #Update list with calculated values\n",
    "\n",
    "    \n",
    "    HD2_value = HDlist[0]\n",
    "    HD3_value = HDlist[1]\n",
    "    \n",
    "    return [HD2_value, HD3_value]\n"
   ]
  },
  {
   "cell_type": "code",
   "execution_count": 7,
   "metadata": {
    "extensions": {
     "jupyter_dashboards": {
      "version": 1,
      "views": {
       "grid_default": {
        "col": 0,
        "height": 2,
        "row": 72,
        "width": 12
       },
       "report_default": {}
      }
     }
    }
   },
   "outputs": [],
   "source": [
    "def Plot_DUC(Fs,Frequency_in,NCO,HD2_noise,HD3_noise):\n",
    "   \n",
    "    Nyquist = float(Fs / 2)      #Calculate Nyquist rate\n",
    "    Fundamental = NCO + Frequency_in\n",
    "    F_image = Fundamental - Fs\n",
    "\n",
    "    print(F_image)\n",
    "    \n",
    "    #if F_image_calc < 0:\n",
    "       # F_image = F_image * -1\n",
    "        \n",
    "    if  Nyquist < F_image:\n",
    "        F_image = F_image-Fs\n",
    "        F_image = F_image *-1\n",
    "    \n",
    "    HD = DUC_spur_calculator(Fs,Frequency_in,NCO)\n",
    "\n",
    "    HD2 = HD[0]\n",
    "    HD3 = HD[1]\n",
    "    \n",
    "    x_plot_HD2 = [HD2, HD2]\n",
    "    x_plot_HD3 = [HD3, HD3]\n",
    "\n",
    "    y_plot_HD2 = [-1*HD2_noise,-100]\n",
    "    y_plot_HD3 = [-1*HD3_noise,-100]\n",
    "    \n",
    "    x_data = [x_plot_HD2,x_plot_HD3]\n",
    "    y_data = [y_plot_HD2,y_plot_HD3]\n",
    "    fund_x = [Fundamental,Fundamental]\n",
    "    fim_x = [F_image, F_image]\n",
    "    Fs_x = [Fs,Fs]\n",
    "    fund_y = [0,-100]\n",
    "    Nyquist1 = [Nyquist,Nyquist]\n",
    "    \n",
    "    x_sc = LinearScale()\n",
    "    y_sc = LinearScale()\n",
    "    ax_x = Axis(label='Frequency(MHz)', scale=x_sc, tick_format='0.0f')\n",
    "    ax_y = Axis(label='Amplitude(dB)', scale=y_sc,\n",
    "               orientation='vertical', tick_format='0.2f')\n",
    "    \n",
    "    #Create lines for plotting\n",
    "    spurs = Lines(x=x_data,y=y_data,scales={'x': x_sc, 'y': y_sc}, colors=['cyan','pink'],enable_move=False,\n",
    "                   hovered_style={'opacity': 1.0, 'fill': 'DarkOrange', 'stroke': 'Red'},\n",
    "                   unhovered_style={'opacity': 0.5},labels=['HD2','HD3'],display_legend=True)\n",
    "    Fundamental_plot = Lines(x=fund_x,y=fund_y,scales={'x': x_sc, 'y': y_sc},colors=['blue'],labels=['Fundamental'],display_legend=True)\n",
    "    Fim_plot = Lines(x=fim_x,y=fund_y,scales={'x': x_sc, 'y': y_sc},colors=['green'],labels=['F image'],display_legend=True)\n",
    "    Nyquist_plot = Lines(x=Nyquist1,y=fund_y,scales={'x': x_sc, 'y': y_sc},colors=['red'],labels=['Nyquist'],display_legend=True)\n",
    "    Fs_plot = Lines(x=Fs_x,y=fund_y,scales={'x': x_sc, 'y': y_sc},colors=['orange'],labels=['Fs'],display_legend=True)\n",
    "   \n",
    "    tt = Tooltip(fields=['x', 'y'], formats=['', '.2f'], labels=['Frequency', 'dB level'])\n",
    "\n",
    "    tt3 = Tooltip(fields=['x'], formats=[''], labels=['Frequency'])\n",
    "    Nyquisttt = Tooltip(fields=['x'], formats=[''], labels=['Nyquist Frequency'])\n",
    "    \n",
    "    spurs.marker='square'\n",
    "    Fundamental_plot.marker='diamond'\n",
    "    Fim_plot.marker='diamond'\n",
    "    Fs_plot.marker='cross'\n",
    "    Nyquist_plot.marker = 'cross'\n",
    "\n",
    "    \n",
    "    fig = Figure(title='DUC Spectrum',axes=[ax_x, ax_y], marks=[spurs,Fundamental_plot,Fs_plot,Nyquist_plot,Fim_plot],\n",
    "                     display_legend=True)\n",
    "\n",
    "    labels = ['spurs','Fundamental_plot','Fs_plot','Nyquist_plot','Fim_plot']\n",
    "    \n",
    "    spurs.tooltip=tt\n",
    "    Fundamental_plot.tooltip=tt\n",
    "    Nyquist_plot.tooltip=Nyquisttt\n",
    "    Fs_plot.tooltip=tt\n",
    "    Fim_plot.tooltip=tt\n",
    "    tools=Toolbar(figure=fig)\n",
    "    \n",
    "        \n",
    "    display(fig, tools)"
   ]
  },
  {
   "cell_type": "code",
   "execution_count": 8,
   "metadata": {
    "extensions": {
     "jupyter_dashboards": {
      "version": 1,
      "views": {
       "grid_default": {
        "hidden": true
       },
       "report_default": {}
      }
     }
    }
   },
   "outputs": [
    {
     "data": {
      "application/vnd.jupyter.widget-view+json": {
       "model_id": "795ae7465f69471db2dc41110b9225c5",
       "version_major": 2,
       "version_minor": 0
      },
      "text/plain": [
       "interactive(children=(FloatSlider(value=3932.16, description='Fs', max=4000.0, min=1900.0, step=100.0), FloatS…"
      ]
     },
     "metadata": {},
     "output_type": "display_data"
    },
    {
     "data": {
      "text/plain": [
       "<function __main__.Plot_DUC(Fs, Frequency_in, NCO, HD2_noise, HD3_noise)>"
      ]
     },
     "execution_count": 8,
     "metadata": {},
     "output_type": "execute_result"
    }
   ],
   "source": [
    "Fs_slider = widgets.FloatSlider(value=3932.16,min=1900,max=4000,step=100)\n",
    "Signal_Center_slider = widgets.FloatSlider(value=3500,min=100,max=4000,step=50)\n",
    "NCO_slider = widgets.FloatSlider(value=3500,min=100,max=4000, step = 50)\n",
    "HD2_slider = widgets.FloatSlider(value=10, min=0, max=200, step = 10)\n",
    "HD3_slider = widgets.FloatSlider(value=10, min=0, max=200, step = 10)\n",
    "widgets.interact(Plot_DUC,Fs=Fs_slider,Frequency_in=Signal_Center_slider,NCO=NCO_slider,HD2_noise=HD2_slider,HD3_noise=HD3_slider)"
   ]
  },
  {
   "cell_type": "markdown",
   "metadata": {
    "extensions": {
     "jupyter_dashboards": {
      "version": 1,
      "views": {
       "grid_default": {
        "hidden": true
       },
       "report_default": {}
      }
     }
    }
   },
   "source": [
    "# DDC Spectrum"
   ]
  },
  {
   "cell_type": "markdown",
   "metadata": {
    "extensions": {
     "jupyter_dashboards": {
      "version": 1,
      "views": {
       "grid_default": {
        "hidden": true
       },
       "report_default": {}
      }
     }
    }
   },
   "source": [
    "The following spectrum displays the relevant information for the Digital down conversion process. Note the values displayed are the decimated values. Any values exceeding the decimated Nquist value are folded back until they are present in the display band.\n",
    "\n",
    "The Fs slider will select the users desired Sampling Frequency\n",
    "The Frequency_in slider will select the desired input signal\n",
    "The NCO slider will select how much the input signal has been shifted by the NCO\n",
    "The HD2/HD3 noise sliders will select the noise level for the harmonic spurs in dB\n",
    "The radio button for Decimation selects the decimation factor of the signal\n",
    "The radio button for int_ADC selects the number of interleaved ADC's the user has"
   ]
  },
  {
   "cell_type": "code",
   "execution_count": 9,
   "metadata": {},
   "outputs": [],
   "source": [
    "def Equation_calculator(Fs, Frequency_in, NCO, Decimation , Interleaved_ADC):\n",
    "    \n",
    "    print(\"The freq in\", Frequency_in)\n",
    "    print(\"sample\", Fs)\n",
    "    print(\"NCO\",NCO)\n",
    "    \n",
    "    Nyquist = Fs/2 #Calculate Nyquist value\n",
    "    \n",
    "    # Calculate K variable, K increases as conditions are met\n",
    "    \n",
    "    if Frequency_in < Nyquist:\n",
    "        K=0\n",
    "        \n",
    "    elif Frequency_in > Nyquist:\n",
    "        K = 1\n",
    "        \n",
    "    elif Frequency_in > Fs + Nyquist:\n",
    "        K = 2\n",
    "    \n",
    "    elif Frequency_in > 2*Fs + Nyquist:\n",
    "        K = 3\n",
    "        \n",
    "    elif Frequency_in > 3*Fs + Nyquist:\n",
    "        K = 4\n",
    "        \n",
    "    else:\n",
    "        K = 5\n",
    "        \n",
    "    ## Potentially add error statement if input frequency reaches unrealistic value \n",
    "    \n",
    "    #Calculate input alias before NCO shift\n",
    "    Input = (Frequency_in - Fs*K)\n",
    "    \n",
    "    #Mirror input if value is negative\n",
    "    if Input < 0:\n",
    "        Input=Input*-1\n",
    "        print(\"input is mirrored\",Input)\n",
    "     \n",
    "    #Shift input by NCO\n",
    "    Input_NCO = (Input) - NCO\n",
    "    \n",
    "    #Calculate final Answer for input alias \n",
    "    Answer = Input_NCO + (Interleaved_ADC * Fs/Decimation)\n",
    "    \n",
    "    #Use decimated Nyquist and Fs values for calculating signal in 1st decimated Nyquist zone\n",
    "    Decimated_Nyquist = Nyquist/Decimation\n",
    "    Decimated_Fs = Fs/Decimation\n",
    "    \n",
    "    print(\"Decimated Nyquist\",Decimated_Nyquist)\n",
    "    print(\"Decimated Fs\",Decimated_Fs)\n",
    "    \n",
    "    #Use following process to continuously subtract decimated FS until value is displayed in first decimated Nyquist zone\n",
    "    stopprocess = False\n",
    "\n",
    "    while stopprocess == False:\n",
    "\n",
    "        if Answer > Decimated_Nyquist:\n",
    "            Answer = Answer-Decimated_Fs\n",
    "            \n",
    "            #Set to true when value is below decimated Nyquist\n",
    "            if Answer < Decimated_Nyquist:\n",
    "                stopprocess = True\n",
    "             \n",
    "    print(\"in alias\",Answer)\n",
    "   \n",
    "    return Answer"
   ]
  },
  {
   "cell_type": "code",
   "execution_count": 10,
   "metadata": {},
   "outputs": [],
   "source": [
    "def DDC_spur_calculator(Fs, Frequency_in, NCO, Decimation , Interleaved_ADC):\n",
    "    \n",
    "    print(\"The freq in\", Frequency_in)\n",
    "    print(\"sample\", Fs)\n",
    "    \n",
    "    Nyquist = Fs/2 #Calculate Nyquist value\n",
    "    HDlist = [] #Create a list for storing loop values\n",
    "    \n",
    "    # Calculate K variable, K increases as conditions are met\n",
    "    \n",
    "    for n in range (2,4,1):\n",
    "       \n",
    "        print(\"fincheck\",Frequency_in*n)\n",
    "        \n",
    "        if Frequency_in*n < Nyquist:\n",
    "            K = 0\n",
    "        \n",
    "        elif Frequency_in*n <= Fs + Nyquist:\n",
    "            K = 1\n",
    "    \n",
    "        elif Frequency_in*n <= 2*Fs + Nyquist:\n",
    "            K = 2\n",
    "        \n",
    "        elif Frequency_in*n <= 3*Fs + Nyquist:\n",
    "            K = 3\n",
    "        \n",
    "        else:\n",
    "            K = 4\n",
    "        \n",
    "        print(\"K check\",K)\n",
    "        hdn_orig = (Frequency_in*n) - (Fs*K)\n",
    "        \n",
    "        if hdn_orig < 0:\n",
    "            hdn_orig = hdn_orig*-1\n",
    "        print(\"original\",hdn_orig)\n",
    "        hd_NCO = hdn_orig - NCO\n",
    "        print(\"NCO\",hd_NCO)\n",
    "        #Calculate final Answer for input alias \n",
    "        Answer = hd_NCO + (Interleaved_ADC * Fs/Decimation)\n",
    "        \n",
    "        print(\"This is answer\",Answer)\n",
    "        \n",
    "        Decimated_Nyquist = Nyquist/Decimation\n",
    "        Decimated_Fs = Fs/Decimation\n",
    "    \n",
    "        \n",
    "        #Use following process to continuously subtract decimated FS until value is displayed in first decimated Nyquist zone\n",
    "        stopprocess = False\n",
    "\n",
    "        while stopprocess == False:\n",
    "            if Answer > Decimated_Nyquist:\n",
    "                Answer = Answer-Decimated_Fs\n",
    "            \n",
    "            #Set to true when value is below decimated Nyquist\n",
    "                if Answer < Decimated_Nyquist:\n",
    "                    stoprocess = True\n",
    "                    temp_list = (Answer)\n",
    "                    HDlist.append(temp_list) \n",
    "                    print(\"Final_HD\",Answer)\n",
    "                    Answer = 0\n",
    "                    print(\"this is answer 2\",Answer)\n",
    "                    break\n",
    "        \n",
    "\n",
    "    \n",
    "    HD2_value = HDlist[0]\n",
    "    HD3_value = HDlist[1]\n",
    "    \n",
    "    return [HD2_value, HD3_value]\n"
   ]
  },
  {
   "cell_type": "code",
   "execution_count": 11,
   "metadata": {},
   "outputs": [],
   "source": [
    "def Plot_DDC(Fs, Frequency_in,NCO,HD2_noise,HD3_noise, Decimation, Interleaved_ADC):\n",
    "    \n",
    "    Nyquist = Fs/2\n",
    "    Decimated_Nyquist = Nyquist/Decimation\n",
    "    print(Decimation)\n",
    "    print(Interleaved_ADC)\n",
    "    \n",
    "    input_alias = Equation_calculator(Fs,Frequency_in,NCO,Decimation,Interleaved_ADC)\n",
    "    print(input_alias)\n",
    "    \n",
    "    HD = DDC_spur_calculator(Fs,Frequency_in,NCO, Decimation, Interleaved_ADC)\n",
    "    print(HD)\n",
    "    print(\"HD2\",HD[0])\n",
    "    print(\"HD3\",HD[1])\n",
    "    \n",
    "    ##\n",
    "    \n",
    "    y_plot_HD2 = [-1*HD2_noise,-100]\n",
    "    y_plot_HD3 = [-1*HD3_noise,-100]\n",
    "\n",
    "    HD2 = HD[0]\n",
    "    HD3 = HD[1]\n",
    "    \n",
    "    x_plot_HD2 = [HD2, HD2]\n",
    "    x_plot_HD3 = [HD3, HD3]\n",
    "    \n",
    "    x_data = [x_plot_HD2,x_plot_HD3]\n",
    "    y_data = [y_plot_HD2,y_plot_HD3]\n",
    "    f_in = [input_alias,input_alias]\n",
    "    #fim_x = [F_image, F_image]\n",
    "    fund_y = [0,-100]\n",
    "    Decimated_Nyquist_plot = [Decimated_Nyquist,Decimated_Nyquist]\n",
    "    \n",
    "    x_sc = LinearScale()\n",
    "    y_sc = LinearScale()\n",
    "    ax_x = Axis(label='Frequency(MHz)', scale=x_sc, tick_format='0.0f')\n",
    "    ax_y = Axis(label='Amplitude(dB)', scale=y_sc,\n",
    "               orientation='vertical', tick_format='0.2f')\n",
    "    \n",
    "    #Create lines for plotting\n",
    "    spurs = Lines(x=x_data,y=y_data,scales={'x': x_sc, 'y': y_sc}, colors=['cyan','cyan'],enable_move=False,\n",
    "                   hovered_style={'opacity': 1.0, 'fill': 'DarkOrange', 'stroke': 'Red'},\n",
    "                   unhovered_style={'opacity': 0.5})\n",
    "    f_in = Lines(x=f_in,y=fund_y,scales={'x': x_sc, 'y': y_sc},colors=['blue'])\n",
    "    #Fim_plot = Lines(x=fim_x,y=fund_y,scales={'x': x_sc, 'y': y_sc},colors=['blue'])\n",
    "    Decimated_Nyquist_plot = Lines(x=Decimated_Nyquist_plot,y=fund_y,scales={'x': x_sc, 'y': y_sc},colors=['red'])\n",
    "    #Fs_plot = Lines(x=Fs_x,y=fund_y,scales={'x': x_sc, 'y': y_sc},colors=['red'])\n",
    "   \n",
    "    tt = Tooltip(fields=['x', 'y'], formats=['', '.2f'], labels=['Frequency', 'dB level'])\n",
    "\n",
    "    tt3 = Tooltip(fields=['x'], formats=[''], labels=['Frequency'])\n",
    "    \n",
    "    spurs.marker='square'\n",
    "    f_in.marker='diamond'\n",
    "    #Fim_plot.marker='diamond'\n",
    "    #Fs_plot.marker='cross'\n",
    "    Decimated_Nyquist_plot.marker = 'cross'\n",
    "\n",
    "    \n",
    "    fig = Figure(title='DDC Spectrum',axes=[ax_x, ax_y], marks=[spurs,f_in,Decimated_Nyquist_plot])\n",
    "    \n",
    "    spurs.tooltip=tt\n",
    "    f_in.tooltip=tt\n",
    "    Decimated_Nyquist_plot.tooltip=tt\n",
    "    #Fim_plot.tooltip=tt\n",
    "    tools=Toolbar(figure=fig)\n",
    "    \n",
    "        \n",
    "    display(fig, tools)"
   ]
  },
  {
   "cell_type": "code",
   "execution_count": 12,
   "metadata": {},
   "outputs": [],
   "source": [
    "#Create slider widgets to control variables\n",
    "Fs_slider = widgets.FloatSlider(value=2000,min=1900,max=4000,step=100)\n",
    "Frequency_in_slider = widgets.FloatSlider(value=500,min=100,max=4000,step=50)\n",
    "NCO_slider = widgets.FloatSlider(value=100, min=100, max=4000, step = 100)\n",
    "HD2_slider = widgets.FloatSlider(value=10, min=0, max=200, step = 10)\n",
    "HD3_slider = widgets.FloatSlider(value=10, min=0, max=200, step = 10)\n",
    "\n",
    "#Create button widgets to control variables\n",
    "Decimation_buttons = widgets.RadioButtons(\n",
    "    options=[2,4,8,12],\n",
    "    value=12,\n",
    "    description='Decimation:',\n",
    "    disabled=False\n",
    ")\n",
    "\n",
    "Interleaved_ADC_buttons = widgets.RadioButtons(\n",
    "    options=[4,8],\n",
    "    value=8,\n",
    "    description='Int ADCs:',\n",
    "    disabled=False\n",
    ")\n"
   ]
  },
  {
   "cell_type": "code",
   "execution_count": 13,
   "metadata": {},
   "outputs": [
    {
     "data": {
      "application/vnd.jupyter.widget-view+json": {
       "model_id": "913b9c33b40240398a30cad5e3190651",
       "version_major": 2,
       "version_minor": 0
      },
      "text/plain": [
       "interactive(children=(FloatSlider(value=2000.0, description='Fs', max=4000.0, min=1900.0, step=100.0), FloatSl…"
      ]
     },
     "metadata": {},
     "output_type": "display_data"
    },
    {
     "data": {
      "text/plain": [
       "<function __main__.Plot_DDC(Fs, Frequency_in, NCO, HD2_noise, HD3_noise, Decimation, Interleaved_ADC)>"
      ]
     },
     "execution_count": 13,
     "metadata": {},
     "output_type": "execute_result"
    }
   ],
   "source": [
    "#Allow widgets to interact with DDC plot\n",
    "widgets.interact(Plot_DDC,Fs=Fs_slider,Frequency_in=Frequency_in_slider,NCO=NCO_slider, HD2_noise = HD2_slider, HD3_noise = HD3_slider, Decimation=Decimation_buttons, Interleaved_ADC=Interleaved_ADC_buttons)"
   ]
  },
  {
   "cell_type": "code",
   "execution_count": null,
   "metadata": {},
   "outputs": [],
   "source": []
  },
  {
   "cell_type": "code",
   "execution_count": null,
   "metadata": {},
   "outputs": [],
   "source": []
  },
  {
   "cell_type": "code",
   "execution_count": null,
   "metadata": {},
   "outputs": [],
   "source": []
  },
  {
   "cell_type": "code",
   "execution_count": null,
   "metadata": {},
   "outputs": [],
   "source": []
  },
  {
   "cell_type": "code",
   "execution_count": null,
   "metadata": {},
   "outputs": [],
   "source": []
  }
 ],
 "metadata": {
  "extensions": {
   "jupyter_dashboards": {
    "activeView": "grid_default",
    "version": 1,
    "views": {
     "grid_default": {
      "cellMargin": 10,
      "defaultCellHeight": 20,
      "maxColumns": 12,
      "name": "grid",
      "type": "grid"
     },
     "report_default": {
      "name": "report",
      "type": "report"
     }
    }
   }
  },
  "kernelspec": {
   "display_name": "Python 3",
   "language": "python",
   "name": "python3"
  },
  "language_info": {
   "codemirror_mode": {
    "name": "ipython",
    "version": 3
   },
   "file_extension": ".py",
   "mimetype": "text/x-python",
   "name": "python",
   "nbconvert_exporter": "python",
   "pygments_lexer": "ipython3",
   "version": "3.7.8"
  }
 },
 "nbformat": 4,
 "nbformat_minor": 4
}
