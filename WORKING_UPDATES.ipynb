{
 "cells": [
  {
   "cell_type": "code",
   "execution_count": 1,
   "metadata": {
    "extensions": {
     "jupyter_dashboards": {
      "version": 1,
      "views": {
       "grid_default": {
        "hidden": true
       },
       "report_default": {}
      }
     }
    }
   },
   "outputs": [],
   "source": [
    "#Import libraries\n",
    "from bqplot import *\n",
    "from ipywidgets import *\n",
    "import pandas as pd"
   ]
  },
  {
   "cell_type": "markdown",
   "metadata": {
    "extensions": {
     "jupyter_dashboards": {
      "version": 1,
      "views": {
       "grid_default": {
        "col": 0,
        "height": 5,
        "row": 1,
        "width": 7
       },
       "report_default": {}
      }
     }
    }
   },
   "source": [
    "# Frequency planning tool for RFSoC devices"
   ]
  },
  {
   "cell_type": "markdown",
   "metadata": {
    "extensions": {
     "jupyter_dashboards": {
      "version": 1,
      "views": {
       "grid_default": {
        "col": 0,
        "height": 12,
        "row": 6,
        "width": 6
       },
       "report_default": {}
      }
     }
    }
   },
   "source": [
    "This Jupyter notebook contains the following:\n",
    "   \n",
    "    1) RF Analogue to Digital frequency plan chart\n",
    "    2) RF Digital to Analogue frequency plan chart\n",
    "    3) Digital Down Conversion Spectrum\n",
    "    4) Digital Up Conversion Spectrum\n",
    "\n",
    "These tools will allow the user to create an in depth frequency plan for any RF project"
   ]
  },
  {
   "cell_type": "markdown",
   "metadata": {},
   "source": [
    "# User guide"
   ]
  },
  {
   "cell_type": "markdown",
   "metadata": {},
   "source": [
    "In all charts sliders are used to select the Sampling frequency, Input frequency and the Bandwidth of the input signal. \n",
    "In the DUC and DDC charts sliders are also available to set the Frequency of the NCO and the level of noise (in dB) in the Harmonic spurs HD2 and HD3. \n",
    "The DDC chart features radio buttons that allow the user to select the number of interleaved ADC's available and the Decimation factor."
   ]
  },
  {
   "cell_type": "markdown",
   "metadata": {
    "extensions": {
     "jupyter_dashboards": {
      "version": 1,
      "views": {
       "grid_default": {
        "col": 0,
        "height": 6,
        "row": 18,
        "width": 12
       },
       "report_default": {}
      }
     }
    }
   },
   "source": [
    "# 1) RFADC Frequency chart"
   ]
  },
  {
   "cell_type": "markdown",
   "metadata": {
    "extensions": {
     "jupyter_dashboards": {
      "version": 1,
      "views": {
       "grid_default": {
        "col": 0,
        "height": 4,
        "row": 24,
        "width": 6
       },
       "report_default": {}
      }
     }
    }
   },
   "source": [
    "The following chart provides the relevant information required for the RFADC process. "
   ]
  },
  {
   "cell_type": "code",
   "execution_count": 2,
   "metadata": {
    "extensions": {
     "jupyter_dashboards": {
      "version": 1,
      "views": {
       "grid_default": {
        "hidden": true
       },
       "report_default": {}
      }
     }
    }
   },
   "outputs": [],
   "source": [
    "#This function is used to calculate the frequency of the input signal in the 1st Nyquist zone\n",
    "#Requires 3 input arguments, set from sliders\n",
    "#Fs = Sampling Frequency, Signal_center = location of center of signal, Signal_bandwidth = Bandwidth of signal\n",
    "\n",
    "def Input_signal_calculator(Fs, Signal_center, Signal_Bandwidth):\n",
    "    \n",
    "    #Calculate low and high bound of the signal\n",
    "    Fin_low = Signal_center - (Signal_Bandwidth/2)\n",
    "    Fin_High = Signal_center + (Signal_Bandwidth/2)\n",
    "    \n",
    "    #Calculate Nyquist rate\n",
    "    Nyquist = float(Fs/2)\n",
    "    \n",
    "    #Set variable K depending on location of input signal \n",
    "    #K used in alias equation for folding signal back to 1st Nyquist zone\n",
    "    if Fin_High <= Nyquist:\n",
    "        K = 0\n",
    "        \n",
    "    elif Fin_High <= Fs + Nyquist:\n",
    "        K = 1\n",
    "    \n",
    "    elif Fin_High <= 2*Fs + Nyquist:\n",
    "        K = 2\n",
    "        \n",
    "    elif Fin_High <= 3*Fs + Nyquist:\n",
    "        K = 3\n",
    "        \n",
    "    else:\n",
    "        K = 4        \n",
    "        \n",
    "    #Calculate input alias\n",
    "    Low_Input = (Fin_low - Fs*K)\n",
    "    High_Input = (Fin_High - Fs*K)\n",
    "    \n",
    "    #Mirror input if value is negative\n",
    "    if Low_Input < 0:\n",
    "        High_Input_return=Low_Input*-1\n",
    "        Low_Input_return=High_Input*-1\n",
    "    \n",
    "    #If positive set value to value as is from input alias calculations previous\n",
    "    else:\n",
    "        Low_Input_return = Low_Input\n",
    "        High_Input_return = High_Input\n",
    " \n",
    "    #If input signal reaches boundaries of 1st Nyquist zone, set equal to relative boundary\n",
    "    if High_Input_return > Nyquist:\n",
    "        High_Input_return = Nyquist\n",
    "        \n",
    "    if Low_Input_return < 0:\n",
    "        Low_Input_return = 0\n",
    "        \n",
    "        \n",
    "    #Return the input values\n",
    "    return [Low_Input_return, High_Input_return]"
   ]
  },
  {
   "cell_type": "code",
   "execution_count": 3,
   "metadata": {
    "extensions": {
     "jupyter_dashboards": {
      "version": 1,
      "views": {
       "grid_default": {
        "col": 6,
        "height": 7,
        "row": 28,
        "width": 4
       },
       "report_default": {}
      }
     }
    }
   },
   "outputs": [],
   "source": [
    "#This function is used to calculate the harmonic spurs relative to the input signal\n",
    "#Requires 3 input arguments, set from sliders\n",
    "#Fs = Sampling Frequency, Signal_center = location of center of signal, Signal_bandwidth = Bandwidth of signal\n",
    "\n",
    "def Spur_Calculator(Fs, Signal_center, Signal_Bandwidth):\n",
    "\n",
    "    #Call input signal function\n",
    "    Input_info = Input_signal_calculator(Fs,Signal_center,Signal_Bandwidth)\n",
    "    \n",
    "    #Calculate Nyquist rate\n",
    "    Nyquist = Fs/2\n",
    "    \n",
    "    #Set frequency bounds to returned values from function\n",
    "    fin_low = Input_info[0]\n",
    "    fin_high = Input_info[1]\n",
    "    \n",
    "    #Craete list for storing spur values\n",
    "    HDlist=[]\n",
    "    \n",
    "    #Iterate through for loop to calculate spurs HD2 uptop HD5\n",
    "    for n in range (2,6,1):\n",
    "        \n",
    "        #Calculate K vairable for folding spur signal back to first nyquist zone\n",
    "        if fin_high*n <= Nyquist:\n",
    "            K = 0\n",
    "        \n",
    "        elif fin_high*n <= Fs + Nyquist:\n",
    "            K = 1\n",
    "    \n",
    "        elif fin_high*n <= 2*Fs + Nyquist:\n",
    "            K = 2\n",
    "        \n",
    "        elif fin_high*n <= 3*Fs + Nyquist:\n",
    "            K = 3\n",
    "        \n",
    "        elif fin_high*n <= 4*Fs + Nyquist:\n",
    "            K = 4\n",
    "            \n",
    "        elif fin_high*n <= 5*Fs + Nyquist:\n",
    "            K = 5\n",
    "        else:\n",
    "            K = 6\n",
    "\n",
    "        \n",
    "        #Calculate spur locations\n",
    "        HDn_high = (fin_high *n) - (Fs*K)\n",
    "        HDn_low = (fin_low *n) - (Fs*K)\n",
    "        \n",
    "        #IF HDn is negative, mirror result \n",
    "        if HDn_high <= 0:        \n",
    "\n",
    "                    Mirror_HDn_low = HDn_low * -1;\n",
    "                    Mirror_HDn_high = HDn_high * -1;\n",
    "        \n",
    "                    temp_list = (Mirror_HDn_low,Mirror_HDn_high) \n",
    "                    #Update list with calculated values \n",
    "                    HDlist.append(temp_list) \n",
    "\n",
    "        \n",
    "        else:\n",
    "                    temp_list = (HDn_high,HDn_low)\n",
    "                    #Update list with calculated values\n",
    "                    HDlist.append(temp_list)        \n",
    "    \n",
    "    #Create array to check if list values are greater than Nyquist\n",
    "    #This is used to set spurs greater than Nyquist = Nyquist, for plotting purposes\n",
    "    \n",
    "    HD_High = [HDlist[0][0],HDlist[1][0],HDlist[2][0],HDlist[3][0]]\n",
    "    \n",
    "    HD_High_list=[]\n",
    "    \n",
    "    for i in HD_High:\n",
    "        if i > Nyquist:\n",
    "            i = Nyquist\n",
    "            temp_list = (i)\n",
    "                    #Update list with calculated values\n",
    "            HD_High_list.append(temp_list)    \n",
    "        else:\n",
    "            i = i\n",
    "            temp_list = (i)\n",
    "                    #Update list with calculated values\n",
    "            HD_High_list.append(temp_list)\n",
    "    \n",
    "    #Create array to check if list values are less than 0\n",
    "    #This is used to set spurs less than 0 = 0, for plotting purposes\n",
    "    \n",
    "    HD_low = [HDlist[0][1],HDlist[1][1],HDlist[2][1],HDlist[3][1]]\n",
    "    \n",
    "    HD_low_list=[]\n",
    "    \n",
    "    for i in HD_low:\n",
    "        if i < 0:\n",
    "            i = 0\n",
    "            temp_list = (i)\n",
    "            #Update list with calculated values\n",
    "            HD_low_list.append(temp_list)    \n",
    "        else:\n",
    "            i = i\n",
    "            temp_list = (i)\n",
    "            #Update list with calculated values\n",
    "            HD_low_list.append(temp_list)\n",
    "\n",
    "    #Create spur values with relative list values\n",
    "    HD2_value = [HD_High_list[0], HD_low_list[0]]\n",
    "    HD3_value = [HD_High_list[1], HD_low_list[1]]\n",
    "    HD4_value = [HD_High_list[2], HD_low_list[2]]\n",
    "    HD5_value = [HD_High_list[3], HD_low_list[3]] \n",
    "    \n",
    "    #This section of code checks to see if the spur locations overlap the input signal\n",
    "    #If true then the overlap will be flagged in the output\n",
    "    \n",
    "    if (fin_low <= HD2_value[0])  and  (fin_high >= HD2_value[1]):\n",
    "        print(\"HD2 overlaps\")\n",
    "    if (fin_low <= HD3_value[0])  and  (fin_high >= HD3_value[1]):\n",
    "        print(\"HD3 overlaps\")\n",
    "    if (fin_low <= HD4_value[0])  and  (fin_high >= HD4_value[1]):\n",
    "        print(\"HD4 overlaps\")\n",
    "    if (fin_low <= HD5_value[0])  and  (fin_high >= HD5_value[1]):\n",
    "        print(\"HD5 overlaps\")\n",
    "    \n",
    "    #return spur values\n",
    "    return [HD2_value[0],HD2_value[1],HD3_value[0],HD3_value[1],HD4_value[0],HD4_value[1],HD5_value[0],HD5_value[1]]\n",
    "\n"
   ]
  },
  {
   "cell_type": "code",
   "execution_count": 4,
   "metadata": {},
   "outputs": [],
   "source": [
    "#This function plots the RFADC chart\n",
    "#Requires 3 input arguments, set from sliders\n",
    "#Fs = Sampling Frequency, Signal_center = location of center of signal, Signal_bandwidth = Bandwidth of signal\n",
    "\n",
    "def Plot_RFADC(Fs,Signal_center,Signal_Bandwidth):\n",
    "    \n",
    "    #Call function to calculate input signal\n",
    "    Input_plot = Input_signal_calculator(Fs, Signal_center, Signal_Bandwidth)\n",
    "    \n",
    "    #Call function to calculate the harmonic spurs\n",
    "    Spur_plot = Spur_Calculator(Fs,Signal_center,Signal_Bandwidth)\n",
    "    \n",
    "    #Calculate Nyquist rate\n",
    "    Nyquist = Fs/2\n",
    "    \n",
    "    #Set y-coordinates for plot\n",
    "    n1 = [5]\n",
    "    n2 = [2,2]\n",
    "    n3 = [3,3]\n",
    "    n4 = [4,4]\n",
    "    n5 = [5,5]\n",
    "    nn = [5,0]\n",
    "    \n",
    "    #Set x and y data used for plotting\n",
    "    spur_data = [Spur_plot[0],Spur_plot[1],Spur_plot[2],Spur_plot[3],Spur_plot[4],Spur_plot[5],Spur_plot[6],Spur_plot[7]]\n",
    "    input_data = [Input_plot[0],Input_plot[1]]\n",
    "   \n",
    "    #Create array of y data to pass through plot tool\n",
    "    y_data = [n2, n3, n4, n5]\n",
    "\n",
    "    HD2_value = [Spur_plot[0], Spur_plot[1]]\n",
    "    HD3_value = [Spur_plot[2], Spur_plot[3]]\n",
    "    HD4_value = [Spur_plot[4], Spur_plot[5]]\n",
    "    HD5_value = [Spur_plot[6], Spur_plot[7]] \n",
    "    \n",
    "    spur_plot2 = [HD2_value,HD3_value,HD4_value,HD5_value]\n",
    "    HD_index = ['HD2','HD3','HD4','HD5']\n",
    "    \n",
    "\n",
    "        \n",
    "    #Set scale to linear\n",
    "    x_sc = LinearScale()\n",
    "    y_sc = LinearScale()\n",
    "    \n",
    "    #Label axis\n",
    "    ax_x = Axis(label='Frequency(MHz)', scale=x_sc, tick_format='0.0f')\n",
    "    ax_y = Axis(label='Harmonic numbers', scale=y_sc,\n",
    "               orientation='vertical', tick_format='0.2f')\n",
    "    \n",
    "    #Create lines for plotting data\n",
    "    spurs = Lines(x=spur_plot2,y=y_data,scales={'x': x_sc, 'y': y_sc}, colors=['green','cyan','purple','yellow','pink'],enable_move=False)  \n",
    "    Fin_horz_plot = Lines(x=input_data,y=n5,scales={'x': x_sc, 'y': y_sc},colors=['blue'])\n",
    "    Fin_vert1_plot = Lines(x=[input_data[0],input_data[0]],y=nn,scales={'x': x_sc, 'y': y_sc},colors=['blue'])\n",
    "    Fin_vert2_plot = Lines(x=[input_data[1],input_data[1]],y=nn,scales={'x': x_sc, 'y': y_sc},colors=['blue'])\n",
    "    Fin_horz_plot_alias = Lines(x=input_data,y=n5,scales={'x': x_sc, 'y': y_sc},colors=['blue'])\n",
    "    Nyquist_plot = Lines(x=[Nyquist,Nyquist],y=nn,scales={'x': x_sc, 'y': y_sc},colors=['red'])\n",
    "    \n",
    "    #Create tooltips for displaying data on hover\n",
    "    tt = Tooltip(fields=['x', 'y'], formats=['', '.2f'], labels=['Frequency', 'harmonic number'])\n",
    "    tt_fim = Tooltip(fields=['x'], formats=[''], labels=['Signal Frequency image'])\n",
    "    Nyquisttt = Tooltip(fields=['x'], formats=[''], labels=['Nyquist Frequency'])\n",
    "    \n",
    "    #Create data tip shapes\n",
    "    spurs.marker='square'\n",
    "    Fin_horz_plot.marker='square'\n",
    "    Nyquist_plot.marker='square'\n",
    "    \n",
    "    #Plot figure\n",
    "    fig = Figure(title='RFADC frequency plan',axes=[ax_x, ax_y], marks=[Fin_horz_plot,Fin_vert1_plot, Fin_vert2_plot,spurs,Nyquist_plot])\n",
    "    spurs.tooltip=tt\n",
    "    Fin_horz_plot.tooltip=tt_fim\n",
    "    Nyquist_plot.tooltip=Nyquisttt\n",
    "    tools=Toolbar(figure=fig)\n",
    "    \n",
    "    #Display figure and relevant tools\n",
    "    display(fig,tools)\n",
    "    \n",
    "        \n",
    "    frame1={'':['Fin','HD2','HD3','HD4','HD5'],\n",
    "                'High':[input_data[1],spur_data[0],spur_data[2],spur_data[4],spur_data[6]],\n",
    "                'Low':[input_data[0],spur_data[1],spur_data[3],spur_data[5],spur_data[7]]}\n",
    "       \n",
    "    \n",
    "    tempFrame = pd.DataFrame(data=frame1)\n",
    "    tempFrame.set_index('',inplace = True)    \n",
    "    tempFrame.to_csv('ADC.csv', sep=',',index=False)\n",
    "\n",
    "    \n",
    "        #tempFrame.to_csv('ADC.csv', sep=',',index=False)\n",
    "    #print(tempFrame)\n",
    "        #'C:/Users/Christian/Desktop/CSV/\n",
    "        \n",
    "    import ipywidgets as widgets\n",
    "    from IPython.display import clear_output\n",
    "    def clicked(b):\n",
    "    \n",
    "    \n",
    "        with out:\n",
    "            clear_output(wait=True)\n",
    "            display(tempFrame)\n",
    "            \n",
    "    out = widgets.Output()\n",
    "    display(out)\n",
    "\n",
    "    run_button = widgets.Button(\n",
    "        description = 'Display numbers'\n",
    "        )\n",
    "    run_button.on_click(clicked)\n",
    "    display(run_button)    \n"
   ]
  },
  {
   "cell_type": "code",
   "execution_count": 5,
   "metadata": {},
   "outputs": [
    {
     "data": {
      "application/vnd.jupyter.widget-view+json": {
       "model_id": "d6a86d3ea3604ab4b1a953aa86a2bf3a",
       "version_major": 2,
       "version_minor": 0
      },
      "text/plain": [
       "HBox(children=(VBox(children=(FloatSlider(value=3932.16, description='Fs:', max=4000.0, step=10.0), FloatSlide…"
      ]
     },
     "metadata": {},
     "output_type": "display_data"
    },
    {
     "data": {
      "application/vnd.jupyter.widget-view+json": {
       "model_id": "78a772c9415745ff95c713b1175b8012",
       "version_major": 2,
       "version_minor": 0
      },
      "text/plain": [
       "Output()"
      ]
     },
     "metadata": {},
     "output_type": "display_data"
    }
   ],
   "source": [
    "#Create sliders for selecting input information\n",
    "import ipywidgets as widgets\n",
    "\n",
    "Fs_slider = widgets.FloatSlider(value=3932.16,min=0,max=4000,step=10,description='Fs:')\n",
    "Signal_Center_slider= widgets.FloatSlider(value=3500,min=100,max=4000,step=50,description='Signal Center:')\n",
    "Signal_Bandwidth = widgets.FloatSlider(value=100,min=50,max=200,step=50,description='Bandwidth:')\n",
    "\n",
    "Fs_text = widgets.BoundedFloatText(value=3932.16,min=0,max=4000,step=0.1,description='Fs:',continuous_update = False)\n",
    "Signal_Center_text = widgets.BoundedFloatText(value=3932.16,min=0,max=4000,step=0.1,description='Signal center:',continuous_update = False)\n",
    "Signal_bandwidth_text = widgets.BoundedFloatText(value=3932.16,min=0,max=4000,step=0.1,description='Bandwidth:',continuous_update = False)\n",
    "l = widgets.link((Fs_slider, 'value'), (Fs_text, 'value'))\n",
    "l = widgets.link((Signal_Center_slider, 'value'), (Signal_Center_text , 'value'))\n",
    "l = widgets.link((Signal_Bandwidth, 'value'), (Signal_bandwidth_text, 'value'))\n",
    "\n",
    "left_box = VBox([Fs_slider, Signal_Center_slider, Signal_Bandwidth])\n",
    "right_box = VBox([Fs_text, Signal_Center_text, Signal_bandwidth_text])\n",
    "sel=HBox([left_box, right_box])\n",
    "\n",
    "display(sel)\n",
    "\n",
    "Fs= Fs_slider\n",
    "Signal_center = Signal_Center_slider\n",
    "\n",
    "\n",
    "#widgets.interact(Plot_RFADC,Fs=Fs_slider,Signal_center=Signal_Center_slider,Signal_Bandwidth=Signal_Bandwidth)\n",
    "\n",
    "out = widgets.interactive_output(Plot_RFADC, {'Fs': Fs, 'Signal_center': Signal_center, 'Signal_Bandwidth': Signal_Bandwidth})\n",
    "display(out)"
   ]
  },
  {
   "cell_type": "markdown",
   "metadata": {},
   "source": [
    "# 2) RFDAC Frequency chart"
   ]
  },
  {
   "cell_type": "markdown",
   "metadata": {
    "extensions": {
     "jupyter_dashboards": {
      "version": 1,
      "views": {
       "grid_default": {
        "col": 0,
        "height": 3,
        "row": 50,
        "width": 12
       },
       "report_default": {}
      }
     }
    }
   },
   "source": [
    "The following chart provides the relevant information required for the RFDAC process."
   ]
  },
  {
   "cell_type": "code",
   "execution_count": 6,
   "metadata": {
    "extensions": {
     "jupyter_dashboards": {
      "version": 1,
      "views": {
       "grid_default": {
        "hidden": true
       },
       "report_default": {}
      }
     }
    }
   },
   "outputs": [],
   "source": [
    "#This function calculates the input signal and its image, to be displayed in the first two Nyquist zones\n",
    "#Requires 3 input arguments, set from sliders\n",
    "#Fs = Sampling Frequency, Signal_center = location of center of signal, Signal_bandwidth = Bandwidth of signal\n",
    "\n",
    "def DAC_Input_signal_calculator(Fs, Signal_center, Signal_Bandwidth):\n",
    "    \n",
    "    #Calculate low and high boundaries of signal\n",
    "    Fin_low = Signal_center - (Signal_Bandwidth/2)\n",
    "    Fin_High = Signal_center + (Signal_Bandwidth/2)\n",
    "    \n",
    "    #Calculate Nyquist rate\n",
    "    Nyquist = float(Fs/2)\n",
    "    \n",
    "    #Calculate K variable\n",
    "    if Fin_High <= Nyquist:\n",
    "        K = 0\n",
    "        \n",
    "    elif Fin_High <= Fs + Nyquist:\n",
    "        K = 1\n",
    "    \n",
    "    elif Fin_High <= 2*Fs + Nyquist:\n",
    "        K = 2\n",
    "        \n",
    "    elif Fin_High <= 3*Fs + Nyquist:\n",
    "        K = 3\n",
    "        \n",
    "    else:\n",
    "        K = 4        \n",
    "        \n",
    "    #Calculate input alias\n",
    "    Low_Input = (Fin_low - Fs*K)\n",
    "    High_Input = (Fin_High - Fs*K)\n",
    "    \n",
    "    #Mirror input if value is negative\n",
    "    if Low_Input < 0:\n",
    "        Low_Input=Low_Input*-1\n",
    "        High_Input=High_Input*-1    \n",
    "        \n",
    "        \n",
    "    if  Fin_High < Nyquist:\n",
    "        Low_Input=Fs-Fin_low\n",
    "        High_Input=Fs-Fin_High\n",
    "\n",
    "    #Return signal and its alias\n",
    "    return [Fin_low, Fin_High,Low_Input, High_Input]\n",
    " "
   ]
  },
  {
   "cell_type": "code",
   "execution_count": 7,
   "metadata": {
    "extensions": {
     "jupyter_dashboards": {
      "version": 1,
      "views": {
       "grid_default": {
        "col": 6,
        "height": 7,
        "row": 53,
        "width": 4
       },
       "report_default": {}
      }
     }
    }
   },
   "outputs": [],
   "source": [
    "#This function will calculate the spurs due to the signal and their images\n",
    "def DAC_Spur_Calculator(Fs, Signal_center, Signal_Bandwidth):\n",
    "\n",
    "    #Call DAC inut function\n",
    "    Input_info = DAC_Input_signal_calculator(Fs,Signal_center,Signal_Bandwidth)\n",
    "    Nyquist = Fs/2\n",
    "    #Set low and high boundaries to values from DAC function call\n",
    "    fin_low = Input_info[0]\n",
    "    fin_high = Input_info[1]\n",
    "    fin_high_alias = Input_info[2]\n",
    "    fin_low_alias = Input_info[3]\n",
    "    \n",
    "    #Create list for storing spur values\n",
    "    HDlist=[]\n",
    "        \n",
    "    #For loop for calculating spurs HD2 upto HD5\n",
    "    for n in range (2,6,1):\n",
    "       \n",
    "        if fin_high*n <= Nyquist:\n",
    "            K = 0\n",
    "        \n",
    "        elif fin_high*n <= Fs + Nyquist:\n",
    "            K = 1\n",
    "    \n",
    "        elif fin_high*n <= 2*Fs + Nyquist:\n",
    "            K = 2\n",
    "        \n",
    "        elif fin_high*n <= 3*Fs + Nyquist:\n",
    "            K = 3\n",
    "        \n",
    "        elif fin_high*n <= 4*Fs + Nyquist:\n",
    "            K = 4\n",
    "            \n",
    "        elif fin_high*n <= 5*Fs + Nyquist:\n",
    "            K = 5\n",
    "        else:\n",
    "            K = 6\n",
    "        \n",
    "        #Calculate spur locations\n",
    "        HDn_high = (fin_high *n) - (Fs*K)\n",
    "        HDn_low = (fin_low *n) - (Fs*K)\n",
    "        \n",
    "        #mirror signal\n",
    "        if HDn_high < 0:\n",
    "            HDn_high = HDn_high*-1\n",
    "        \n",
    "        \n",
    "        if HDn_low <= 0:\n",
    "            HDn_low = HDn_low*-1\n",
    "    \n",
    "        if HDn_high < 0:        #IF HDn is negative, mirror result \n",
    "\n",
    "                    Mirror_HDn_low = HDn_low * -1;\n",
    "                    Mirror_HDn_high = HDn_high * -1;\n",
    "                 \n",
    "           #  print(\"mirrorRange of HD\",n, \"is\", Mirror_HDn_Higher, \"to\", Mirror_HDn_Lower); # print range\n",
    "                    temp_list = (Mirror_HDn_low,Mirror_HDn_high) \n",
    "                    HDlist.append(temp_list)        #Update list with calculated values                 \n",
    "        \n",
    "        elif  Nyquist < HDn_high:\n",
    "            HDn_high = Nyquist\n",
    "            temp_list = (HDn_low,HDn_high)\n",
    "        else:\n",
    "            # print(\"Range of HD\",n, \" is\", HDn_Lower, \"to\", HDn_Higher); #Print range\n",
    "                    temp_list = (HDn_high,HDn_low)\n",
    "                    HDlist.append(temp_list)        #Update list with calculated values\n",
    "\n",
    "                    \n",
    "     #Create array to check if list values are greater than Nyquist\n",
    "    #This is used to set spurs greater than Nyquist = Nyquist, for plotting purposes\n",
    "    \n",
    "    HD_High = [HDlist[0][0],HDlist[1][0],HDlist[2][0],HDlist[3][0]]\n",
    "  \n",
    "    HD_High_list=[]\n",
    "    \n",
    "    for i in HD_High:\n",
    "        if i <= 0 :\n",
    "            i = 0 \n",
    "            temp_list = (i)\n",
    "                    #Update list with calculated values\n",
    "            HD_High_list.append(temp_list)    \n",
    "        else:\n",
    "            i = i\n",
    "            temp_list = (i)\n",
    "                    #Update list with calculated values\n",
    "            HD_High_list.append(temp_list)\n",
    "    \n",
    "    #Create array to check if list values are less than 0\n",
    "    #This is used to set spurs less than 0 = 0, for plotting purposes\n",
    "    \n",
    "    HD_low = [HDlist[0][1],HDlist[1][1],HDlist[2][1],HDlist[3][1]]\n",
    "    \n",
    "    \n",
    "    HD_low_list=[]\n",
    "    \n",
    "    for i in HD_low:\n",
    "        if i > Nyquist:\n",
    "            i = Nyquist\n",
    "            temp_list = (i)\n",
    "            #Update list with calculated values\n",
    "            HD_low_list.append(temp_list)    \n",
    "        else:\n",
    "            i = i\n",
    "            temp_list = (i)\n",
    "            #Update list with calculated values\n",
    "            HD_low_list.append(temp_list)\n",
    "\n",
    "    #Create spur values with relative list values\n",
    "    HD2_value = [HD_High_list[0], HD_low_list[0]]\n",
    "    HD3_value = [HD_High_list[1], HD_low_list[1]]\n",
    "    HD4_value = [HD_High_list[2], HD_low_list[2]]\n",
    "    HD5_value = [HD_High_list[3], HD_low_list[3]] \n",
    "                   \n",
    "\n",
    "    #Set spur locations\n",
    "    #HD2_value = [HDlist[0][0], HDlist[0][1]]\n",
    "   # HD3_value = [HDlist[1][0], HDlist[1][1]]\n",
    "   # HD4_value = [HDlist[2][0], HDlist[2][1]]\n",
    "   # HD5_value = [HDlist[3][0], HDlist[3][1]]\n",
    "    \n",
    "    #Set spur image locations: Fs-spur locations = spur image location\n",
    "    Ny_HD2 = [Fs-HDlist[0][0], Fs-HDlist[0][1]]\n",
    "    Ny_HD3 = [Fs-HDlist[1][0], Fs-HDlist[1][1]]\n",
    "    Ny_HD4 = [Fs-HDlist[2][0], Fs-HDlist[2][1]]\n",
    "    Ny_HD5 = [Fs-HDlist[3][0], Fs-HDlist[3][1]]\n",
    "    \n",
    "     #Create array to check if list values are greater than Nyquist\n",
    "    #This is used to set spurs greater than Nyquist = Nyquist, for plotting purposes\n",
    "    \n",
    "    HD_NY_High = [Fs-HDlist[0][0],Fs-HDlist[1][0],Fs-HDlist[2][0],Fs-HDlist[3][0]]\n",
    "    \n",
    "    HD_High_NY_list=[]\n",
    "    \n",
    "    for i in HD_NY_High:\n",
    "        if i > Fs :\n",
    "            i = Fs\n",
    "            temp_list = (i)\n",
    "                    #Update list with calculated values\n",
    "            HD_High_NY_list.append(temp_list)    \n",
    "        else:\n",
    "            i = i\n",
    "            temp_list = (i)\n",
    "                    #Update list with calculated values\n",
    "            HD_High_NY_list.append(temp_list)\n",
    "    \n",
    "    #Create array to check if list values are less than 0\n",
    "    #This is used to set spurs less than 0 = 0, for plotting purposes\n",
    "    \n",
    "    HD_NY_low = [Fs-HDlist[0][1],Fs-HDlist[1][1],Fs-HDlist[2][1],Fs-HDlist[3][1]]\n",
    "    \n",
    "    HD_low_NY_list=[]\n",
    "    \n",
    "    for i in HD_NY_low:\n",
    "        if i < Nyquist:\n",
    "            i = Nyquist\n",
    "            temp_list = (i)\n",
    "            #Update list with calculated values\n",
    "            HD_low_NY_list.append(temp_list)    \n",
    "        else:\n",
    "            i = i\n",
    "            temp_list = (i)\n",
    "            #Update list with calculated values\n",
    "            HD_low_NY_list.append(temp_list)\n",
    "\n",
    "    \n",
    "    #Create spur values with relative list values\n",
    "    HD2_Ny_value = [HD_High_NY_list[0], HD_low_NY_list[0]]\n",
    "    HD3_Ny_value = [HD_High_NY_list[1], HD_low_NY_list[1]]\n",
    "    HD4_Ny_value = [HD_High_NY_list[2], HD_low_NY_list[2]]\n",
    "    HD5_Ny_value = [HD_High_NY_list[3], HD_low_NY_list[3]] \n",
    "\n",
    "    \n",
    "    if (fin_low <= HD2_value[0])  and  (fin_high >= HD2_value[1]):\n",
    "        print(\"HD2 overlaps\")\n",
    "    if (fin_low <= HD3_value[0])  and  (fin_high >= HD3_value[1]):\n",
    "        print(\"HD3 overlaps\")\n",
    "    if (fin_low <= HD4_value[0])  and  (fin_high >= HD4_value[1]):\n",
    "        print(\"HD4 overlaps\")\n",
    "    if (fin_low <= HD5_value[0])  and  (fin_high >= HD5_value[1]):\n",
    "        print(\"HD5 overlaps\")\n",
    "    \n",
    "    if (fin_low <= Ny_HD2[0])  and  (fin_high >= Ny_HD2[1]):\n",
    "        print(\"HD2 overlaps\")\n",
    "    if (fin_low <= Ny_HD3[0])  and  (fin_high >= Ny_HD3[1]):\n",
    "        print(\"HD3 overlaps\")\n",
    "    if (fin_low <= Ny_HD4[0])  and  (fin_high >= Ny_HD4[1]):\n",
    "        print(\"HD4 overlaps\")\n",
    "    if (fin_low<= Ny_HD5[0])  and  (fin_high >= Ny_HD5[1]):\n",
    "        print(\"HD5 overlaps\")\n",
    "        \n",
    "        \n",
    "    if (fin_low_alias <= HD2_value[0])  and  (fin_high_alias >= HD2_value[1]):\n",
    "        print(\"HD2 overlaps\")\n",
    "    if (fin_low_alias  <= HD3_value[0])  and  (fin_high_alias >= HD3_value[1]):\n",
    "        print(\"HD3 overlaps\")\n",
    "    if (fin_low_alias  <= HD4_value[0])  and  (fin_high_alias >= HD4_value[1]):\n",
    "        print(\"HD4 overlaps\")\n",
    "    if (fin_low_alias  <= HD5_value[0])  and  (fin_high_alias >= HD5_value[1]):\n",
    "        print(\"HD5 overlaps\")\n",
    "    #Return spurs and their images\n",
    "    #return [HD2_value,HD3_value,HD4_value,HD5_value,Ny_HD2,Ny_HD3,Ny_HD4,Ny_HD5]\n",
    "    return [HD2_value,HD3_value,HD4_value,HD5_value,HD2_Ny_value,HD3_Ny_value,HD4_Ny_value,HD5_Ny_value]"
   ]
  },
  {
   "cell_type": "code",
   "execution_count": 8,
   "metadata": {},
   "outputs": [],
   "source": [
    "def Plot_RFDAC(Fs,Signal_center,Signal_Bandwidth):\n",
    "    \n",
    "    Input_plot = DAC_Input_signal_calculator(Fs, Signal_center, Signal_Bandwidth)\n",
    "    Spur_plot = DAC_Spur_Calculator(Fs,Signal_center,Signal_Bandwidth)\n",
    "    Nyquist = Fs/2\n",
    "    \n",
    "    #y-coordinates\n",
    "    n1 = [5]\n",
    "    n2 = [2,2]\n",
    "    n3 = [3,3]\n",
    "    n4 = [4,4]\n",
    "    n5 = [5,5]\n",
    "    nn = [5,0]\n",
    "    \n",
    "    #Set x and y data used for plotting\n",
    "    spur_data = [Spur_plot[0],Spur_plot[1],Spur_plot[2],Spur_plot[3],Spur_plot[4],Spur_plot[5],Spur_plot[6],Spur_plot[7]]\n",
    "    input_data = [Input_plot[2],Input_plot[3]]\n",
    "    input_alias = [Input_plot[0],Input_plot[1]]\n",
    "    y_data = [n2, n3, n4, n5,n2,n3,n4,n5]\n",
    "\n",
    "    \n",
    "    \n",
    "    x_sc = LinearScale()\n",
    "    y_sc = LinearScale()\n",
    "    ax_x = Axis(label='Frequency(MHz)', scale=x_sc, tick_format='0.0f')\n",
    "    ax_y = Axis(label='Harmonic numbers', scale=y_sc,\n",
    "               orientation='vertical', tick_format='0.2f')\n",
    "    \n",
    "    #Create lines for plotting\n",
    "    spurs = Lines(x=spur_data,y=y_data,scales={'x': x_sc, 'y': y_sc}, colors=['cyan','pink','purple','yellow','cyan','pink','purple','yellow'],enable_move=False,\n",
    "                   hovered_style={'opacity': 1.0, 'fill': 'DarkOrange', 'stroke': 'Red'},\n",
    "                   unhovered_style={'opacity': 0.5})\n",
    "    Fin_horz_plot = Lines(x=input_data,y=n5,scales={'x': x_sc, 'y': y_sc},colors=['blue'])\n",
    "    Fin_vert1_plot = Lines(x=[input_data[0],input_data[0]],y=nn,scales={'x': x_sc, 'y': y_sc},colors=['blue'])\n",
    "    Fin_vert2_plot = Lines(x=[input_data[1],input_data[1]],y=nn,scales={'x': x_sc, 'y': y_sc},colors=['blue'])\n",
    "    Fin_horz_plot_alias = Lines(x=input_alias,y=n5,scales={'x': x_sc, 'y': y_sc},colors=['blue'])\n",
    "    Fin_vert1_plot_alias = Lines(x=[input_alias[0],input_alias[0]],y=nn,scales={'x': x_sc, 'y': y_sc},colors=['blue'])\n",
    "    Fin_vert2_plot_alias = Lines(x=[input_alias[1],input_alias[1]],y=nn,scales={'x': x_sc, 'y': y_sc},colors=['blue'])\n",
    "    Nyquist_plot = Lines(x=[Nyquist,Nyquist],y=nn,scales={'x': x_sc, 'y': y_sc},colors=['red'])\n",
    "    \n",
    "    tt = Tooltip(fields=['x', 'y'], formats=['', '.2f'], labels=['Frequency', 'harmonic number'])\n",
    "    \n",
    "    tt_fim = Tooltip(fields=['x'], formats=[''], labels=['Signal Frequency image'])\n",
    "    tt3 = Tooltip(fields=['x'], formats=[''], labels=['Signal Frequency'])\n",
    "    Nyquisttt = Tooltip(fields=['x'], formats=[''], labels=['Nyquist Frequency'])\n",
    "    spurs.marker='square'\n",
    "    Fin_horz_plot.marker='square'\n",
    "    Fin_horz_plot_alias.marker='square'\n",
    "    Nyquist_plot.marker='square'\n",
    "    #Plot\n",
    "    fig = Figure(title='RFDAC frequency plan',axes=[ax_x, ax_y], marks=[Fin_horz_plot_alias,Fin_vert1_plot_alias,Fin_vert2_plot_alias,Fin_horz_plot,Fin_vert1_plot, Fin_vert2_plot,spurs,Nyquist_plot])\n",
    "    spurs.tooltip=tt\n",
    "    Fin_horz_plot.tooltip=tt_fim\n",
    "    Fin_horz_plot_alias.tooltip=tt3\n",
    "    Nyquist_plot.tooltip=Nyquisttt\n",
    "    tools=Toolbar(figure=fig)\n",
    "\n",
    "    display(fig,tools)"
   ]
  },
  {
   "cell_type": "code",
   "execution_count": 9,
   "metadata": {},
   "outputs": [
    {
     "data": {
      "application/vnd.jupyter.widget-view+json": {
       "model_id": "46538779a3a141749611c3beba41f04d",
       "version_major": 2,
       "version_minor": 0
      },
      "text/plain": [
       "HBox(children=(VBox(children=(FloatSlider(value=3932.16, description='Fs:', max=4000.0, step=10.0), FloatSlide…"
      ]
     },
     "metadata": {},
     "output_type": "display_data"
    },
    {
     "data": {
      "application/vnd.jupyter.widget-view+json": {
       "model_id": "22c7f169d7664cbc994a9d60e75bf15d",
       "version_major": 2,
       "version_minor": 0
      },
      "text/plain": [
       "Output()"
      ]
     },
     "metadata": {},
     "output_type": "display_data"
    }
   ],
   "source": [
    "#Create sliders for selecting input information\n",
    "\n",
    "Fs_slider = widgets.FloatSlider(value=3932.16,min=0,max=4000,step=10,description='Fs:')\n",
    "Signal_Center_slider= widgets.FloatSlider(value=3500,min=100,max=4000,step=50,description='Signal Center:')\n",
    "Signal_Bandwidth = widgets.FloatSlider(value=100,min=50,max=200,step=50,description='Bandwidth:')\n",
    "\n",
    "Fs_text = widgets.BoundedFloatText(value=3932.16,min=0,max=4000,step=0.1,description='Fs:',continuous_update = False)\n",
    "Signal_Center_text = widgets.BoundedFloatText(value=3932.16,min=0,max=4000,step=0.1,description='Signal center:',continuous_update = False)\n",
    "Signal_bandwidth_text = widgets.BoundedFloatText(value=3932.16,min=0,max=4000,step=0.1,description='Bandwidth:',continuous_update = False)\n",
    "l = widgets.link((Fs_slider, 'value'), (Fs_text, 'value'))\n",
    "l = widgets.link((Signal_Center_slider, 'value'), (Signal_Center_text , 'value'))\n",
    "l = widgets.link((Signal_Bandwidth, 'value'), (Signal_bandwidth_text, 'value'))\n",
    "\n",
    "left_box = VBox([Fs_slider, Signal_Center_slider, Signal_Bandwidth])\n",
    "right_box = VBox([Fs_text, Signal_Center_text, Signal_bandwidth_text])\n",
    "sel=HBox([left_box, right_box])\n",
    "\n",
    "display(sel)\n",
    "\n",
    "Fs= Fs_slider\n",
    "Signal_center = Signal_Center_slider\n",
    "\n",
    "\n",
    "#widgets.interact(Plot_RFADC,Fs=Fs_slider,Signal_center=Signal_Center_slider,Signal_Bandwidth=Signal_Bandwidth)\n",
    "\n",
    "out = widgets.interactive_output(Plot_RFDAC, {'Fs': Fs, 'Signal_center': Signal_center, 'Signal_Bandwidth': Signal_Bandwidth})\n",
    "display(out)"
   ]
  },
  {
   "cell_type": "markdown",
   "metadata": {
    "extensions": {
     "jupyter_dashboards": {
      "version": 1,
      "views": {
       "grid_default": {
        "col": 0,
        "height": 2,
        "row": 68,
        "width": 12
       },
       "report_default": {}
      }
     }
    }
   },
   "source": [
    "#  3) DUC Spectrum"
   ]
  },
  {
   "cell_type": "markdown",
   "metadata": {
    "extensions": {
     "jupyter_dashboards": {
      "version": 1,
      "views": {
       "grid_default": {
        "col": 0,
        "height": 2,
        "row": 70,
        "width": 12
       },
       "report_default": {}
      }
     }
    }
   },
   "source": [
    "The following spectrum will display the relevevant information for the Digital up conversion process.\n",
    "If mix mode is on Nyquist zone 2 will show the relevant spurs.\n",
    "If normal mode is on Nyquist zone 1 will show the relevant spurs. \n",
    "The spectrum shows both Nyquist zones so user does not need to make changes depending on which mode they operate."
   ]
  },
  {
   "cell_type": "code",
   "execution_count": 10,
   "metadata": {
    "extensions": {
     "jupyter_dashboards": {
      "version": 1,
      "views": {
       "grid_default": {
        "hidden": true
       },
       "report_default": {}
      }
     }
    }
   },
   "outputs": [],
   "source": [
    "def DUC_spur_calculator(Fs, Frequency_in, NCO):\n",
    "    \n",
    "    Nyquist = float(Fs / 2)      #Calculate Nyquist rate\n",
    "    Fundamental = NCO + Frequency_in\n",
    "    F_image_calc = Fundamental - Fs\n",
    "\n",
    "    if  Nyquist < F_image_calc:\n",
    "        F_image = F_image_calc-Fs\n",
    "        F_image = F_image *-1\n",
    "\n",
    "    Nyquist = Fs/2 #Calculate Nyquist value\n",
    "    HDlist = [] #Create a list for storing loop values\n",
    "    \n",
    "    # Calculate K variable, K increases as conditions are met\n",
    "    \n",
    "    for n in range (2,4,1):\n",
    "       \n",
    "        \n",
    "        if Fundamental*n < Nyquist:\n",
    "            K = 0\n",
    "        \n",
    "        elif Fundamental*n <= Fs + Nyquist:\n",
    "            K = 1\n",
    "    \n",
    "        elif Fundamental*n <= 2*Fs + Nyquist:\n",
    "            K = 2\n",
    "        \n",
    "        elif Fundamental*n <= 3*Fs + Nyquist:\n",
    "            K = 3\n",
    "        \n",
    "        elif Fundamental*n <= 4*Fs + Nyquist:\n",
    "            K = 4\n",
    "            \n",
    "        elif Fundamental*n <= 5*Fs + Nyquist:\n",
    "            K = 5\n",
    "        else:\n",
    "            K = 6\n",
    "        \n",
    "        HDn = (Fundamental *n) - (Fs*K)\n",
    "        \n",
    "        if HDn < 0:\n",
    "            HDn = HDn*-1\n",
    "\n",
    "\n",
    "        if HDn <= 0:        #IF HDn is negative, mirror result \n",
    "\n",
    "                    Mirror_HDn = HDn * -1;\n",
    "                 \n",
    "                    temp_list = (Mirror_HDn) \n",
    "                    HDlist.append(temp_list)        #Update list with calculated values                 \n",
    "        else:\n",
    "                    temp_list = (HDn)\n",
    "                    HDlist.append(temp_list)        #Update list with calculated values\n",
    "\n",
    "    \n",
    "    HD2_value = HDlist[0]\n",
    "    HD3_value = HDlist[1]\n",
    "    HD2_image = Fs - HD2_value\n",
    "    HD3_image = Fs - HD3_value\n",
    "    \n",
    "    return [HD2_value, HD3_value,HD2_image,HD3_image]\n"
   ]
  },
  {
   "cell_type": "code",
   "execution_count": 11,
   "metadata": {
    "extensions": {
     "jupyter_dashboards": {
      "version": 1,
      "views": {
       "grid_default": {
        "col": 0,
        "height": 2,
        "row": 72,
        "width": 12
       },
       "report_default": {}
      }
     }
    }
   },
   "outputs": [],
   "source": [
    "def Plot_DUC(Fs,Frequency_in,NCO,HD2_noise,HD3_noise):\n",
    "   \n",
    "    Nyquist = float(Fs / 2)      #Calculate Nyquist rate\n",
    "    Fundamental = NCO + Frequency_in\n",
    "    F_image = Fundamental - Fs\n",
    "\n",
    "    if  Nyquist <= F_image:\n",
    "        F_image = F_image-Fs\n",
    "        F_image = F_image *-1\n",
    "    \n",
    "    elif F_image < 0:\n",
    "        Fimage= F_image*-1\n",
    "        \n",
    "\n",
    "        \n",
    "    HD = DUC_spur_calculator(Fs,Frequency_in,NCO)\n",
    "\n",
    "    HD2 = HD[0]\n",
    "    HD3 = HD[1]\n",
    "    HD2_image = HD[2]\n",
    "    HD3_image = HD[3]\n",
    "    \n",
    "    x_plot_HD2 = [HD2, HD2]\n",
    "    x_plot_HD3 = [HD3, HD3]\n",
    "    x_plot_HD2_image = [HD2_image, HD2_image]\n",
    "    x_plot_HD3_image = [HD3_image, HD3_image]\n",
    "\n",
    "    y_plot_HD2 = [-1*HD2_noise,-100]\n",
    "    y_plot_HD3 = [-1*HD3_noise,-100]\n",
    "    \n",
    "    x_data = [x_plot_HD2,x_plot_HD3,x_plot_HD2_image,x_plot_HD3_image]\n",
    "    y_data = [y_plot_HD2,y_plot_HD3,y_plot_HD2,y_plot_HD3]\n",
    "    fund_x = [Fundamental,Fundamental]\n",
    "    fim_x = [F_image, F_image]\n",
    "    Fs_x = [Fs,Fs]\n",
    "    fund_y = [0,-100]\n",
    "    Nyquist1 = [Nyquist,Nyquist]\n",
    "    \n",
    "    x_sc = LinearScale()\n",
    "    y_sc = LinearScale()\n",
    "    ax_x = Axis(label='Frequency(MHz)', scale=x_sc, tick_format='0.0f')\n",
    "    ax_y = Axis(label='Amplitude(dB)', scale=y_sc,\n",
    "               orientation='vertical', tick_format='0.2f')\n",
    "    \n",
    "    #Create lines for plotting\n",
    "    spurs = Lines(x=x_data,y=y_data,scales={'x': x_sc, 'y': y_sc}, colors=['cyan','pink'],enable_move=False,\n",
    "                   hovered_style={'opacity': 1.0, 'fill': 'DarkOrange', 'stroke': 'Red'},\n",
    "                   unhovered_style={'opacity': 0.5},labels=['HD2','HD3'])\n",
    "    Fundamental_plot = Lines(x=fund_x,y=fund_y,scales={'x': x_sc, 'y': y_sc},colors=['blue'],labels=['Fundamental'])\n",
    "    Fim_plot = Lines(x=fim_x,y=fund_y,scales={'x': x_sc, 'y': y_sc},colors=['blue'],labels=['F image'])\n",
    "    Nyquist_plot = Lines(x=Nyquist1,y=fund_y,scales={'x': x_sc, 'y': y_sc},colors=['red'],labels=['Nyquist'])\n",
    "    Fs_plot = Lines(x=Fs_x,y=fund_y,scales={'x': x_sc, 'y': y_sc},colors=['red'],labels=['Fs'])\n",
    "   \n",
    "    tt = Tooltip(fields=['x', 'y'], formats=['', '.2f'], labels=['Frequency', 'dB level'])\n",
    "\n",
    "    tt3 = Tooltip(fields=['x'], formats=[''], labels=['Frequency'])\n",
    "    Nyquisttt = Tooltip(fields=['x'], formats=[''], labels=['Nyquist Frequency'])\n",
    "    \n",
    "    spurs.marker='square'\n",
    "    Fundamental_plot.marker='square'\n",
    "    Fim_plot.marker='square'\n",
    "    Fs_plot.marker='square'\n",
    "    Nyquist_plot.marker = 'square'\n",
    "\n",
    "    \n",
    "    fig = Figure(title='DUC Spectrum',axes=[ax_x, ax_y], marks=[spurs,Fundamental_plot,Fs_plot,Nyquist_plot,Fim_plot],\n",
    "                     display_legend=True)\n",
    "\n",
    "    labels = ['spurs','Fundamental_plot','Fs_plot','Nyquist_plot','Fim_plot']\n",
    "    \n",
    "    spurs.tooltip=tt\n",
    "    Fundamental_plot.tooltip=tt\n",
    "    Nyquist_plot.tooltip=Nyquisttt\n",
    "    Fs_plot.tooltip=tt\n",
    "    Fim_plot.tooltip=tt\n",
    "    tools=Toolbar(figure=fig)\n",
    "    \n",
    "        \n",
    "    display(fig, tools)"
   ]
  },
  {
   "cell_type": "code",
   "execution_count": 33,
   "metadata": {
    "extensions": {
     "jupyter_dashboards": {
      "version": 1,
      "views": {
       "grid_default": {
        "hidden": true
       },
       "report_default": {}
      }
     }
    }
   },
   "outputs": [
    {
     "data": {
      "application/vnd.jupyter.widget-view+json": {
       "model_id": "bbf4119217f940cbb6c3e33b13329ee7",
       "version_major": 2,
       "version_minor": 0
      },
      "text/plain": [
       "HBox(children=(VBox(children=(FloatSlider(value=3932.16, description='Fs:', max=4000.0, min=1900.0, step=100.0…"
      ]
     },
     "metadata": {},
     "output_type": "display_data"
    },
    {
     "data": {
      "application/vnd.jupyter.widget-view+json": {
       "model_id": "d750bedf87e345c1b73750b983a8a9cf",
       "version_major": 2,
       "version_minor": 0
      },
      "text/plain": [
       "Output()"
      ]
     },
     "metadata": {},
     "output_type": "display_data"
    }
   ],
   "source": [
    "Fs_slider = widgets.FloatSlider(value=3932.16,min=1900,max=4000,step=100,description='Fs:')\n",
    "Signal_Center_slider = widgets.FloatSlider(value=3500,min=100,max=4000,step=50,description='Signal center:')\n",
    "NCO_slider = widgets.FloatSlider(value=3500,min=100,max=4000, step = 50,description='NCO:')\n",
    "HD2_slider = widgets.FloatSlider(value=10, min=0, max=200, step = 10,description='HD2 noise:')\n",
    "HD3_slider = widgets.FloatSlider(value=10, min=0, max=200, step = 10,description='HD3 noise:')\n",
    "#widgets.interact(Plot_DUC,Fs=Fs_slider,Frequency_in=Signal_Center_slider,NCO=NCO_slider,HD2_noise=HD2_slider,HD3_noise=HD3_slider)\n",
    "\n",
    "\n",
    "\n",
    "Fs_text = widgets.BoundedFloatText(value=3932.16,min=0,max=4000,step=0.1,description='Fs:',continuous_update = False)\n",
    "Signal_Center_text = widgets.BoundedFloatText(value=3932.16,min=0,max=4000,step=0.1,description='Signal center:',continuous_update = False)\n",
    "NCO_text = widgets.BoundedFloatText(value=1000,min=0,max=2000,step=0.1,description='NCO:',continuous_update = False)\n",
    "HD2_text = widgets.BoundedFloatText(value=1000,min=0,max=2000,step=0.1,description='HD2 noise:',continuous_update = False)\n",
    "HD3_text = widgets.BoundedFloatText(value=1000,min=0,max=2000,step=0.1,description='HD3 noise:',continuous_update = False)\n",
    "l = widgets.link((Fs_slider, 'value'), (Fs_text, 'value'))\n",
    "l = widgets.link((Signal_Center_slider, 'value'), (Signal_Center_text , 'value'))\n",
    "l = widgets.link((NCO_slider, 'value'), (NCO_text, 'value'))\n",
    "l = widgets.link((HD2_slider, 'value'), (HD2_text, 'value'))\n",
    "l = widgets.link((HD2_slider, 'value'), (HD2_text, 'value'))\n",
    "\n",
    "left_box = VBox([Fs_slider, Signal_Center_slider, NCO_slider,HD2_slider,HD3_slider])\n",
    "right_box = VBox([Fs_text, Signal_Center_text, NCO_text,HD2_text,HD3_text])\n",
    "\n",
    "sel=HBox([left_box, right_box])\n",
    "\n",
    "display(sel)\n",
    "\n",
    "Fs= Fs_slider\n",
    "Signal_center = Signal_Center_slider\n",
    "NCO = NCO_slider\n",
    "\n",
    "#widgets.interact(Plot_RFADC,Fs=Fs_slider,Signal_center=Signal_Center_slider,Signal_Bandwidth=Signal_Bandwidth)\n",
    "\n",
    "out = widgets.interactive_output(Plot_DUC, {'Fs': Fs, 'Frequency_in': Signal_center, 'NCO': NCO,\n",
    "                                              'HD2_noise':HD2_slider,'HD3_noise':HD3_slider })\n",
    "display(out)"
   ]
  },
  {
   "cell_type": "markdown",
   "metadata": {
    "extensions": {
     "jupyter_dashboards": {
      "version": 1,
      "views": {
       "grid_default": {
        "hidden": true
       },
       "report_default": {}
      }
     }
    }
   },
   "source": [
    "# DDC Spectrum"
   ]
  },
  {
   "cell_type": "markdown",
   "metadata": {
    "extensions": {
     "jupyter_dashboards": {
      "version": 1,
      "views": {
       "grid_default": {
        "hidden": true
       },
       "report_default": {}
      }
     }
    }
   },
   "source": [
    "The following spectrum displays the relevant information for the Digital down conversion process. Note the values displayed are the decimated values. Any values exceeding the decimated Nquist value are folded back until they are present in the display band."
   ]
  },
  {
   "cell_type": "code",
   "execution_count": 13,
   "metadata": {},
   "outputs": [],
   "source": [
    "def Equation_calculator(Fs, Frequency_in, NCO, Decimation , Interleaved_ADC):\n",
    "    \n",
    "    Nyquist = Fs/2 #Calculate Nyquist value\n",
    "    \n",
    "    # Calculate K variable, K increases as conditions are met\n",
    "    \n",
    "    if Frequency_in < Nyquist:\n",
    "        K=0\n",
    "        \n",
    "    elif Frequency_in > Nyquist:\n",
    "        K = 1\n",
    "        \n",
    "    elif Frequency_in > Fs + Nyquist:\n",
    "        K = 2\n",
    "    \n",
    "    elif Frequency_in > 2*Fs + Nyquist:\n",
    "        K = 3\n",
    "        \n",
    "    elif Frequency_in > 3*Fs + Nyquist:\n",
    "        K = 4\n",
    "        \n",
    "    else:\n",
    "        K = 5\n",
    "        \n",
    "    ## Potentially add error statement if input frequency reaches unrealistic value \n",
    "    \n",
    "    #Calculate input alias before NCO shift\n",
    "    Input = (Frequency_in - Fs*K)\n",
    "    \n",
    "    #Mirror input if value is negative\n",
    "    if Input < 0:\n",
    "        Input=Input*-1\n",
    "     \n",
    "    #Shift input by NCO\n",
    "    Input_NCO = (Input) - NCO\n",
    "    \n",
    "    #Calculate final Answer for input alias \n",
    "    Answer = Input_NCO + (Interleaved_ADC * Fs/Decimation)\n",
    "\n",
    "    if Answer < 0:\n",
    "        Answer = Answer * -1\n",
    "    \n",
    "    #Use decimated Nyquist and Fs values for calculating signal in 1st decimated Nyquist zone\n",
    "    Decimated_Nyquist = Nyquist/Decimation\n",
    "    Decimated_Fs = Fs/Decimation\n",
    "    \n",
    "    \n",
    "    #Use following process to continuously subtract decimated FS until value is displayed in first decimated Nyquist zone\n",
    "    stopprocess = False\n",
    "\n",
    "    while stopprocess == False:\n",
    "\n",
    "        if Answer > Decimated_Nyquist:\n",
    "            Answer = Answer-Decimated_Fs\n",
    "            \n",
    "            #Set to true when value is below decimated Nyquist\n",
    "            if Answer <= Decimated_Nyquist:\n",
    "                stopprocess = True\n",
    "\n",
    "    return Answer"
   ]
  },
  {
   "cell_type": "code",
   "execution_count": 14,
   "metadata": {},
   "outputs": [],
   "source": [
    "def DDC_spur_calculator(Fs, Frequency_in, NCO, Decimation , Interleaved_ADC):\n",
    "    \n",
    "    \n",
    "    Nyquist = Fs/2 #Calculate Nyquist value\n",
    "    HDlist = [] #Create a list for storing loop values\n",
    "    \n",
    "    # Calculate K variable, K increases as conditions are met\n",
    "    \n",
    "    for n in range (2,4,1):\n",
    "       \n",
    "        \n",
    "        if Frequency_in*n < Nyquist:\n",
    "            K = 0\n",
    "        \n",
    "        elif Frequency_in*n <= Fs + Nyquist:\n",
    "            K = 1\n",
    "    \n",
    "        elif Frequency_in*n <= 2*Fs + Nyquist:\n",
    "            K = 2\n",
    "        \n",
    "        elif Frequency_in*n <= 3*Fs + Nyquist:\n",
    "            K = 3\n",
    "        \n",
    "        else:\n",
    "            K = 4\n",
    "\n",
    "        hdn_orig = (Frequency_in*n) - (Fs*K)\n",
    "        \n",
    "        hdn_image = Fs - hdn_orig\n",
    "        \n",
    "        if hdn_orig < 0:\n",
    "            hdn_orig = hdn_orig*-1\n",
    "            \n",
    "        if hdn_image < 0:\n",
    "            hdn_image = hdn_image*-1\n",
    "            \n",
    "        hd_NCO = hdn_orig - NCO\n",
    "        hd_image_nco = hdn_image - NCO\n",
    "        #Calculate final Answer for input alias \n",
    "        Answer = hd_NCO + (Interleaved_ADC * Fs/Decimation)\n",
    "        Answer2 = hd_image_nco + (Interleaved_ADC * Fs/Decimation)\n",
    "        \n",
    "        Decimated_Nyquist = Nyquist/Decimation\n",
    "        Decimated_Fs = Fs/Decimation\n",
    "    \n",
    "        \n",
    "        #Use following process to continuously subtract decimated FS until value is displayed in first decimated Nyquist zone\n",
    "        stopprocess = False\n",
    "\n",
    "        while stopprocess == False:\n",
    "            if Answer > Decimated_Nyquist:\n",
    "                Answer = Answer-Decimated_Fs\n",
    "            \n",
    "            #Set to true when value is below decimated Nyquist\n",
    "                if Answer <= Decimated_Nyquist:\n",
    "                    stoprocess = True\n",
    "                    temp_list = (Answer)\n",
    "                    HDlist.append(temp_list) \n",
    "                    Answer = 0\n",
    "                    break\n",
    "                stopprocess = False\n",
    "\n",
    "        stopprocess2 = False\n",
    "        \n",
    "        while stopprocess2 == False:\n",
    "            if Answer2 > Decimated_Nyquist:\n",
    "                Answer2 = Answer2-Decimated_Fs\n",
    "            \n",
    "            #Set to true when value is below decimated Nyquist\n",
    "                if Answer2 <= Decimated_Nyquist:\n",
    "                    stoprocess = True\n",
    "                    temp_list = (Answer2)\n",
    "                    HDlist.append(temp_list) \n",
    "                    Answer2 = 0\n",
    "                    break\n",
    "\n",
    "    \n",
    "    HD2_value = HDlist[0]\n",
    "    HD3_value = HDlist[2]\n",
    "    HD2_image_value = HDlist[1]\n",
    "    HD3_image_value = HDlist[3]\n",
    "    \n",
    "    return [HD2_value, HD3_value, HD2_image_value, HD3_image_value]\n"
   ]
  },
  {
   "cell_type": "code",
   "execution_count": 15,
   "metadata": {},
   "outputs": [],
   "source": [
    "def Plot_DDC(Fs, Frequency_in,NCO,HD2_noise,HD3_noise, Decimation, Interleaved_ADC):\n",
    "    \n",
    "    Nyquist = Fs/2\n",
    "    Decimated_Nyquist = Nyquist/Decimation\n",
    "    \n",
    "    input_alias = Equation_calculator(Fs,Frequency_in,NCO,Decimation,Interleaved_ADC)\n",
    "    \n",
    "    HD = DDC_spur_calculator(Fs,Frequency_in,NCO, Decimation, Interleaved_ADC)\n",
    "\n",
    "    \n",
    "    y_plot_HD2 = [-1*HD2_noise,-100]\n",
    "    y_plot_HD3 = [-1*HD3_noise,-100]\n",
    "\n",
    "    HD2 = HD[0]\n",
    "    HD3 = HD[1]\n",
    "    HD2_image = HD[2]\n",
    "    HD3_image = HD[3]\n",
    "    \n",
    "    x_plot_HD2 = [HD2, HD2]\n",
    "    x_plot_HD2_image = [HD2_image, HD2_image]\n",
    "    x_plot_HD3 = [HD3, HD3]\n",
    "    x_plot_HD3_image = [HD3_image, HD3_image]\n",
    "    \n",
    "    x_data_HD2 = [x_plot_HD2]\n",
    "    x_data_HD3 = [x_plot_HD3]\n",
    "    x_data_HD2_image = [x_plot_HD2_image]\n",
    "    x_data_HD3_image = [x_plot_HD3_image]\n",
    "    y_data_HD2 = [y_plot_HD2]\n",
    "    y_data_HD3 = [y_plot_HD3]\n",
    "    f_in = [input_alias,input_alias]\n",
    "    \n",
    "    fund_y = [0,-100]\n",
    "    Decimated_Nyquist_plot = [Decimated_Nyquist,Decimated_Nyquist]\n",
    "    Negative_Nyquist = [-1*Decimated_Nyquist,-1*Decimated_Nyquist]\n",
    "    \n",
    "    x_sc = LinearScale()\n",
    "    y_sc = LinearScale()\n",
    "    ax_x = Axis(label='Frequency(MHz)', scale=x_sc, tick_format='0.0f')\n",
    "    ax_y = Axis(label='Amplitude(dB)', scale=y_sc,\n",
    "               orientation='vertical', tick_format='0.2f')\n",
    "    \n",
    "    #Create lines for plotting\n",
    "    spur_HD2 = Lines(x=x_data_HD2,y=y_data_HD2,scales={'x': x_sc, 'y': y_sc}, colors=['cyan'],enable_move=False,\n",
    "                   hovered_style={'opacity': 1.0, 'fill': 'DarkOrange', 'stroke': 'Red'},\n",
    "                   unhovered_style={'opacity': 0.5})\n",
    "    spur_HD3 = Lines(x=x_data_HD3,y=y_data_HD3,scales={'x': x_sc, 'y': y_sc}, colors=['pink'],enable_move=False,\n",
    "                   hovered_style={'opacity': 1.0, 'fill': 'DarkOrange', 'stroke': 'Red'},\n",
    "                   unhovered_style={'opacity': 0.5})\n",
    "    spur_HD2_image = Lines(x=x_data_HD2_image,y=y_data_HD2,scales={'x': x_sc, 'y': y_sc}, colors=['cyan'],enable_move=False,\n",
    "                   hovered_style={'opacity': 1.0, 'fill': 'DarkOrange', 'stroke': 'Red'},\n",
    "                   unhovered_style={'opacity': 0.5})\n",
    "    spur_HD3_image = Lines(x=x_data_HD3_image,y=y_data_HD3,scales={'x': x_sc, 'y': y_sc}, colors=['pink'],enable_move=False,\n",
    "                   hovered_style={'opacity': 1.0, 'fill': 'DarkOrange', 'stroke': 'Red'},\n",
    "                   unhovered_style={'opacity': 0.5})\n",
    "    f_in = Lines(x=f_in,y=fund_y,scales={'x': x_sc, 'y': y_sc},colors=['blue'])\n",
    "  \n",
    "    Decimated_Nyquist_plot = Lines(x=Decimated_Nyquist_plot,y=fund_y,scales={'x': x_sc, 'y': y_sc},colors=['red'])\n",
    "    Negative_Nyquist_plot = Lines(x=Negative_Nyquist,y=fund_y,scales={'x': x_sc, 'y': y_sc},colors=['red'])\n",
    "  \n",
    "   \n",
    "    tt = Tooltip(fields=['x', 'y'], formats=['', '.2f'], labels=['Frequency in', 'dB level'])\n",
    "    tt_HD2 = Tooltip(fields=['x', 'y'], formats=['', '.2f'], labels=['HD2', 'dB level'])\n",
    "    tt_HD3 = Tooltip(fields=['x', 'y'], formats=['', '.2f'], labels=['HD3', 'dB level'])\n",
    "    tt_HD2_image = Tooltip(fields=['x', 'y'], formats=['', '.2f'], labels=['HD2 image', 'dB level'])\n",
    "    tt_HD3_image = Tooltip(fields=['x', 'y'], formats=['', '.2f'], labels=['HD3 image', 'dB level'])\n",
    "    tt3 = Tooltip(fields=['x'], formats=[''], labels=['Frequency'])\n",
    "    \n",
    "    spur_HD2.marker='square'\n",
    "    spur_HD3.marker='square'\n",
    "    spur_HD2_image.marker='square'\n",
    "    spur_HD3_image.marker='square'\n",
    "    f_in.marker='square'\n",
    "    Decimated_Nyquist_plot.marker = 'square'\n",
    "    Negative_Nyquist_plot.marker = 'square'\n",
    "\n",
    "    \n",
    "    fig = Figure(title='DDC Spectrum',axes=[ax_x, ax_y], marks=[spur_HD2,spur_HD3,spur_HD2_image,spur_HD3_image,f_in,Decimated_Nyquist_plot,Negative_Nyquist_plot])\n",
    "    \n",
    "    spur_HD2_image.tooltip=tt_HD2_image\n",
    "    spur_HD3_image.tooltip=tt_HD3_image\n",
    "    spur_HD2.tooltip=tt_HD2\n",
    "    spur_HD3.tooltip=tt_HD3\n",
    "    f_in.tooltip=tt\n",
    "    Decimated_Nyquist_plot.tooltip=tt\n",
    "    tools=Toolbar(figure=fig)\n",
    "    \n",
    "        \n",
    "    display(fig, tools)"
   ]
  },
  {
   "cell_type": "code",
   "execution_count": 37,
   "metadata": {},
   "outputs": [
    {
     "data": {
      "application/vnd.jupyter.widget-view+json": {
       "model_id": "4b258d77ce7b4aa1a918f34607b090fe",
       "version_major": 2,
       "version_minor": 0
      },
      "text/plain": [
       "HBox(children=(VBox(children=(FloatSlider(value=3932.16, description='Fs:', max=4000.0, min=1900.0, step=100.0…"
      ]
     },
     "metadata": {},
     "output_type": "display_data"
    },
    {
     "data": {
      "application/vnd.jupyter.widget-view+json": {
       "model_id": "1b330bb89fce4fb792ca36736edc88f2",
       "version_major": 2,
       "version_minor": 0
      },
      "text/plain": [
       "Output()"
      ]
     },
     "metadata": {},
     "output_type": "display_data"
    }
   ],
   "source": [
    "Fs_slider = widgets.FloatSlider(value=3932.16,min=1900,max=4000,step=100,description='Fs:')\n",
    "Signal_Center_slider = widgets.FloatSlider(value=3500,min=100,max=4000,step=50,description='Signal center:')\n",
    "NCO_slider = widgets.FloatSlider(value=3500,min=100,max=4000, step = 50,description='NCO:')\n",
    "HD2_slider = widgets.FloatSlider(value=10, min=0, max=200, step = 10,description='HD2 noise:')\n",
    "HD3_slider = widgets.FloatSlider(value=10, min=0, max=200, step = 10,description='HD3 noise:')\n",
    "#widgets.interact(Plot_DUC,Fs=Fs_slider,Frequency_in=Signal_Center_slider,NCO=NCO_slider,HD2_noise=HD2_slider,HD3_noise=HD3_slider)\n",
    "\n",
    "#Create button widgets to control variables\n",
    "Decimation_buttons = widgets.RadioButtons(\n",
    "    options=[2,4,8],\n",
    "    value=8,\n",
    "    description='Decimation:',\n",
    "    disabled=False\n",
    ")\n",
    "\n",
    "Interleaved_ADC_buttons = widgets.RadioButtons(\n",
    "    options=[4,8],\n",
    "    value=8,\n",
    "    description='Int ADCs:',\n",
    "    disabled=False\n",
    ")\n",
    "\n",
    "\n",
    "Fs_text = widgets.BoundedFloatText(value=3932.16,min=0,max=4000,step=0.1,description='Fs:',continuous_update = False)\n",
    "Signal_Center_text = widgets.BoundedFloatText(value=3932.16,min=0,max=4000,step=0.1,description='Signal center:',continuous_update = False)\n",
    "NCO_text = widgets.BoundedFloatText(value=1000,min=0,max=2000,step=0.1,description='NCO:',continuous_update = False)\n",
    "HD2_text = widgets.BoundedFloatText(value=1000,min=0,max=2000,step=0.1,description='HD2 noise:',continuous_update = False)\n",
    "HD3_text = widgets.BoundedFloatText(value=1000,min=0,max=2000,step=0.1,description='HD3 noise:',continuous_update = False)\n",
    "l = widgets.link((Fs_slider, 'value'), (Fs_text, 'value'))\n",
    "l = widgets.link((Signal_Center_slider, 'value'), (Signal_Center_text , 'value'))\n",
    "l = widgets.link((NCO_slider, 'value'), (NCO_text, 'value'))\n",
    "l = widgets.link((HD2_slider, 'value'), (HD2_text, 'value'))\n",
    "l = widgets.link((HD2_slider, 'value'), (HD2_text, 'value'))\n",
    "\n",
    "left_box = VBox([Fs_slider, Signal_Center_slider, NCO_slider,HD2_slider,HD3_slider])\n",
    "right_box = VBox([Fs_text, Signal_Center_text, NCO_text,HD2_text,HD3_text])\n",
    "button_box = VBox([Interleaved_ADC_buttons,Decimation_buttons])\n",
    "\n",
    "sel=HBox([left_box, right_box,button_box])\n",
    "\n",
    "display(sel)\n",
    "\n",
    "Fs= Fs_slider\n",
    "Signal_center = Signal_Center_slider\n",
    "NCO = NCO_slider\n",
    "\n",
    "#widgets.interact(Plot_RFADC,Fs=Fs_slider,Signal_center=Signal_Center_slider,Signal_Bandwidth=Signal_Bandwidth)\n",
    "\n",
    "out = widgets.interactive_output(Plot_DDC, {'Fs': Fs, 'Frequency_in': Signal_center, 'NCO': NCO,\n",
    "                                              'HD2_noise':HD2_slider,'HD3_noise':HD3_slider,'Decimation':Decimation_buttons,\n",
    "                                            'Interleaved_ADC':Interleaved_ADC_buttons})\n",
    "display(out)\n",
    "\n"
   ]
  },
  {
   "cell_type": "code",
   "execution_count": null,
   "metadata": {},
   "outputs": [],
   "source": []
  },
  {
   "cell_type": "code",
   "execution_count": null,
   "metadata": {},
   "outputs": [],
   "source": []
  },
  {
   "cell_type": "code",
   "execution_count": null,
   "metadata": {},
   "outputs": [],
   "source": []
  },
  {
   "cell_type": "code",
   "execution_count": null,
   "metadata": {},
   "outputs": [],
   "source": []
  },
  {
   "cell_type": "code",
   "execution_count": null,
   "metadata": {},
   "outputs": [],
   "source": []
  }
 ],
 "metadata": {
  "extensions": {
   "jupyter_dashboards": {
    "activeView": "grid_default",
    "version": 1,
    "views": {
     "grid_default": {
      "cellMargin": 10,
      "defaultCellHeight": 20,
      "maxColumns": 12,
      "name": "grid",
      "type": "grid"
     },
     "report_default": {
      "name": "report",
      "type": "report"
     }
    }
   }
  },
  "kernelspec": {
   "display_name": "Python 3",
   "language": "python",
   "name": "python3"
  },
  "language_info": {
   "codemirror_mode": {
    "name": "ipython",
    "version": 3
   },
   "file_extension": ".py",
   "mimetype": "text/x-python",
   "name": "python",
   "nbconvert_exporter": "python",
   "pygments_lexer": "ipython3",
   "version": "3.7.8"
  }
 },
 "nbformat": 4,
 "nbformat_minor": 4
}
