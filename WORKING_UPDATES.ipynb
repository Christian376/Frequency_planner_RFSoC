{
 "cells": [
  {
   "cell_type": "code",
   "execution_count": 1,
   "metadata": {
    "extensions": {
     "jupyter_dashboards": {
      "version": 1,
      "views": {
       "grid_default": {
        "hidden": true
       },
       "report_default": {}
      }
     }
    }
   },
   "outputs": [],
   "source": [
    "#Import libraries\n",
    "from bqplot import *\n",
    "from ipywidgets import *\n",
    "import csv\n",
    "import pandas as pd"
   ]
  },
  {
   "cell_type": "markdown",
   "metadata": {
    "extensions": {
     "jupyter_dashboards": {
      "version": 1,
      "views": {
       "grid_default": {
        "col": 0,
        "height": 5,
        "row": 1,
        "width": 7
       },
       "report_default": {}
      }
     }
    }
   },
   "source": [
    "# Frequency planning tool for RFSoC devices"
   ]
  },
  {
   "cell_type": "markdown",
   "metadata": {
    "extensions": {
     "jupyter_dashboards": {
      "version": 1,
      "views": {
       "grid_default": {
        "col": 0,
        "height": 12,
        "row": 6,
        "width": 6
       },
       "report_default": {}
      }
     }
    }
   },
   "source": [
    "This Jupyter notebook contains the following:\n",
    "   \n",
    "    1) RF Analogue to Digital frequency plan chart\n",
    "    2) RF Digital to Analogue frequency plan chart\n",
    "    3) Digital Down Conversion Spectrum\n",
    "    4) Digital Up Conversion Spectrum\n",
    "\n",
    "These tools will allow the user to create an in depth frequency plan for any RF project"
   ]
  },
  {
   "cell_type": "markdown",
   "metadata": {
    "extensions": {
     "jupyter_dashboards": {
      "version": 1,
      "views": {
       "grid_default": {
        "col": 0,
        "height": 6,
        "row": 18,
        "width": 12
       },
       "report_default": {}
      }
     }
    }
   },
   "source": [
    "# 1) RFADC Frequency chart"
   ]
  },
  {
   "cell_type": "markdown",
   "metadata": {
    "extensions": {
     "jupyter_dashboards": {
      "version": 1,
      "views": {
       "grid_default": {
        "col": 0,
        "height": 4,
        "row": 24,
        "width": 6
       },
       "report_default": {}
      }
     }
    }
   },
   "source": [
    "The following chart provides the relevant information required for the RFADC process. "
   ]
  },
  {
   "cell_type": "markdown",
   "metadata": {
    "extensions": {
     "jupyter_dashboards": {
      "version": 1,
      "views": {
       "grid_default": {
        "col": 0,
        "height": 8,
        "row": 28,
        "width": 6
       },
       "report_default": {}
      }
     }
    }
   },
   "source": [
    "Move the FS slider to change the sampling frequency to desired level\n",
    "\n",
    "Move the Signal center slider to select the center of your signal band\n",
    "\n",
    "Finally move the Signal bandwidth slider to select the width of your received signal"
   ]
  },
  {
   "cell_type": "code",
   "execution_count": 2,
   "metadata": {
    "extensions": {
     "jupyter_dashboards": {
      "version": 1,
      "views": {
       "grid_default": {
        "hidden": true
       },
       "report_default": {}
      }
     }
    }
   },
   "outputs": [],
   "source": [
    "#This function is used to calculate the frequency of the input signal in the 1st Nyquist zone\n",
    "#Requires 3 input arguments, set from sliders\n",
    "#Fs = Sampling Frequency, Signal_center = location of center of signal, Signal_bandwidth = Bandwidth of signal\n",
    "\n",
    "def Input_signal_calculator(Fs, Signal_center, Signal_Bandwidth):\n",
    "    \n",
    "    #Calculate low and high bound of the signal\n",
    "    Fin_low = Signal_center - (Signal_Bandwidth/2)\n",
    "    Fin_High = Signal_center + (Signal_Bandwidth/2)\n",
    "    \n",
    "    #Calculate Nyquist rate\n",
    "    Nyquist = float(Fs/2)\n",
    "    \n",
    "    #Set variable K depending on location of input signal \n",
    "    #K used in alias equation for folding signal back to 1st Nyquist zone\n",
    "    if Fin_High <= Nyquist:\n",
    "        K = 0\n",
    "        \n",
    "    elif Fin_High <= Fs + Nyquist:\n",
    "        K = 1\n",
    "    \n",
    "    elif Fin_High <= 2*Fs + Nyquist:\n",
    "        K = 2\n",
    "        \n",
    "    elif Fin_High <= 3*Fs + Nyquist:\n",
    "        K = 3\n",
    "        \n",
    "    else:\n",
    "        K = 4        \n",
    "        \n",
    "    #Calculate input alias\n",
    "    Low_Input = (Fin_low - Fs*K)\n",
    "    High_Input = (Fin_High - Fs*K)\n",
    "    \n",
    "    print(\"Low input\",Low_Input)\n",
    "    print(\"high input\",High_Input)\n",
    "    \n",
    "    #Mirror input if value is negative\n",
    "    if Low_Input < 0:\n",
    "        High_Input_return=Low_Input*-1\n",
    "        print(\"input is mirrored\",Low_Input)\n",
    "        Low_Input_return=High_Input*-1\n",
    "        print(\"input is mirrored\",High_Input)\n",
    "    \n",
    "    #If positive set value to value as is from input alias calculations previous\n",
    "    else:\n",
    "        Low_Input_return = Low_Input\n",
    "        High_Input_return = High_Input\n",
    " \n",
    "    #If input signal reaches boundaries of 1st Nyquist zone, set equal to relative boundary\n",
    "    if High_Input_return > Nyquist:\n",
    "        High_Input_return = Nyquist\n",
    "        \n",
    "    if Low_Input_return < 0:\n",
    "        Low_Input_return = 0\n",
    "        \n",
    "        \n",
    "    #Return the input values\n",
    "    return [Low_Input_return, High_Input_return]"
   ]
  },
  {
   "cell_type": "code",
   "execution_count": 3,
   "metadata": {
    "extensions": {
     "jupyter_dashboards": {
      "version": 1,
      "views": {
       "grid_default": {
        "col": 6,
        "height": 7,
        "row": 28,
        "width": 4
       },
       "report_default": {}
      }
     }
    }
   },
   "outputs": [],
   "source": [
    "#This function is used to calculate the harmonic spurs relative to the input signal\n",
    "#Requires 3 input arguments, set from sliders\n",
    "#Fs = Sampling Frequency, Signal_center = location of center of signal, Signal_bandwidth = Bandwidth of signal\n",
    "\n",
    "def Spur_Calculator(Fs, Signal_center, Signal_Bandwidth):\n",
    "\n",
    "    #Call input signal function\n",
    "    Input_info = Input_signal_calculator(Fs,Signal_center,Signal_Bandwidth)\n",
    "    \n",
    "    #Calculate Nyquist rate\n",
    "    Nyquist = Fs/2\n",
    "    \n",
    "    #Set frequency bounds to returned values from function\n",
    "    fin_low = Input_info[0]\n",
    "    fin_high = Input_info[1]\n",
    "    print(\"This is high\",fin_high)\n",
    "    \n",
    "    #Craete list for storing spur values\n",
    "    HDlist=[]\n",
    "    \n",
    "    #Iterate through for loop to calculate spurs HD2 uptop HD5\n",
    "    for n in range (2,6,1):\n",
    "       \n",
    "        print(\"check this\",fin_high*n)\n",
    "        \n",
    "        #Calculate K vairable for folding spur signal back to first nyquist zone\n",
    "        if fin_high*n <= Nyquist:\n",
    "            K = 0\n",
    "        \n",
    "        elif fin_high*n <= Fs + Nyquist:\n",
    "            K = 1\n",
    "    \n",
    "        elif fin_high*n <= 2*Fs + Nyquist:\n",
    "            K = 2\n",
    "        \n",
    "        elif fin_high*n <= 3*Fs + Nyquist:\n",
    "            K = 3\n",
    "        \n",
    "        elif fin_high*n <= 4*Fs + Nyquist:\n",
    "            K = 4\n",
    "            \n",
    "        elif fin_high*n <= 5*Fs + Nyquist:\n",
    "            K = 5\n",
    "        else:\n",
    "            K = 6\n",
    "\n",
    "        \n",
    "        #Calculate spur locations\n",
    "        HDn_high = (fin_high *n) - (Fs*K)\n",
    "        HDn_low = (fin_low *n) - (Fs*K)\n",
    "\n",
    "        #IF HDn is negative, mirror result \n",
    "        if HDn_high <= 0:        \n",
    "\n",
    "                    Mirror_HDn_low = HDn_low * -1;\n",
    "                    Mirror_HDn_high = HDn_high * -1;\n",
    "        \n",
    "                    temp_list = (Mirror_HDn_low,Mirror_HDn_high) \n",
    "                    #Update list with calculated values \n",
    "                    HDlist.append(temp_list)                        \n",
    "        \n",
    " \n",
    "        else:\n",
    "            \n",
    "                    temp_list = (HDn_high,HDn_low)\n",
    "                    #Update list with calculated values\n",
    "                    HDlist.append(temp_list)        \n",
    "\n",
    "    #Create spur values with relative list values\n",
    "    HD2_value = [HDlist[0][0], HDlist[0][1]]\n",
    "    HD3_value = [HDlist[1][0], HDlist[1][1]]\n",
    "    HD4_value = [HDlist[2][0], HDlist[2][1]]\n",
    "    HD5_value = [HDlist[3][0], HDlist[3][1]]  \n",
    "    \n",
    "    #This section of code checks to see if the spur locations overlap the input signal\n",
    "    #If true then the overlap will be flagged in the output\n",
    "    \n",
    "    if (fin_low <= HD2_value[0])  and  (fin_high >= HD2_value[1]):\n",
    "        print(\"HD2 overlaps\")\n",
    "    if (fin_low <= HD3_value[0])  and  (fin_high >= HD3_value[1]):\n",
    "        print(\"HD3 overlaps\")\n",
    "    if (fin_low <= HD4_value[0])  and  (fin_high >= HD4_value[1]):\n",
    "        print(\"HD4 overlaps\")\n",
    "    if (fin_low <= HD5_value[0])  and  (fin_high >= HD5_value[1]):\n",
    "        print(\"HD5 overlaps\")\n",
    "    \n",
    "    #return spur values\n",
    "    return [HD2_value[0],HD2_value[1],HD3_value[0],HD3_value[1],HD4_value[0],HD4_value[1],HD5_value[0],HD5_value[1]]\n",
    "\n"
   ]
  },
  {
   "cell_type": "code",
   "execution_count": 22,
   "metadata": {},
   "outputs": [],
   "source": [
    "#This function plots the RFADC chart\n",
    "#Requires 3 input arguments, set from sliders\n",
    "#Fs = Sampling Frequency, Signal_center = location of center of signal, Signal_bandwidth = Bandwidth of signal\n",
    "\n",
    "def Plot_RFADC(Fs,Signal_center,Signal_Bandwidth):\n",
    "    \n",
    "    #Call function to calculate input signal\n",
    "    Input_plot = Input_signal_calculator(Fs, Signal_center, Signal_Bandwidth)\n",
    "    \n",
    "    #Call function to calculate the harmonic spurs\n",
    "    Spur_plot = Spur_Calculator(Fs,Signal_center,Signal_Bandwidth)\n",
    "    \n",
    "    #Calculate Nyquist rate\n",
    "    Nyquist = Fs/2\n",
    "    \n",
    "    #Set y-coordinates for plot\n",
    "    n1 = [5]\n",
    "    n2 = [2,2]\n",
    "    n3 = [3,3]\n",
    "    n4 = [4,4]\n",
    "    n5 = [5,5]\n",
    "    nn = [5,0]\n",
    "    \n",
    "    #Set x and y data used for plotting\n",
    "    spur_data = [Spur_plot[0],Spur_plot[1],Spur_plot[2],Spur_plot[3],Spur_plot[4],Spur_plot[5],Spur_plot[6],Spur_plot[7]]\n",
    "    input_data = [Input_plot[0],Input_plot[1]]\n",
    "   \n",
    "    #Create array of y data to pass through plot tool\n",
    "    y_data = [n2, n3, n4, n5]\n",
    "\n",
    "    HD2_value = [Spur_plot[0], Spur_plot[1]]\n",
    "    HD3_value = [Spur_plot[2], Spur_plot[3]]\n",
    "    HD4_value = [Spur_plot[4], Spur_plot[5]]\n",
    "    HD5_value = [Spur_plot[6], Spur_plot[7]] \n",
    "    \n",
    "    spur_plot2 = [HD2_value,HD3_value,HD4_value,HD5_value]\n",
    "    from IPython.display import display\n",
    "\n",
    "    import csv\n",
    "    def clicked(arg):\n",
    "\n",
    "        tempFrame = pd.DataFrame(spur_data, columns = ['Frequency'])\n",
    "        tempFrame.to_csv('C:/Users/Christian/Desktop/CSV/ADC.csv', sep=',')\n",
    "        \n",
    "        \n",
    "        \n",
    "    button_download = widgets.Button(description = 'Download CSV')   \n",
    "    button_download.on_click(clicked)\n",
    "    display(button_download)\n",
    "        \n",
    "        \n",
    "    #Set scale to linear\n",
    "    x_sc = LinearScale()\n",
    "    y_sc = LinearScale()\n",
    "    \n",
    "    #Label axis\n",
    "    ax_x = Axis(label='Frequency(MHz)', scale=x_sc, tick_format='0.0f')\n",
    "    ax_y = Axis(label='Harmonic numbers', scale=y_sc,\n",
    "               orientation='vertical', tick_format='0.2f')\n",
    "    \n",
    "    #Create lines for plotting data\n",
    "    spurs = Lines(x=spur_plot2,y=y_data,scales={'x': x_sc, 'y': y_sc}, colors=['green','cyan','purple','yellow','pink'],enable_move=False)  \n",
    "    Fin_horz_plot = Lines(x=input_data,y=n5,scales={'x': x_sc, 'y': y_sc},colors=['blue'])\n",
    "    Fin_vert1_plot = Lines(x=[input_data[0],input_data[0]],y=nn,scales={'x': x_sc, 'y': y_sc},colors=['blue'])\n",
    "    Fin_vert2_plot = Lines(x=[input_data[1],input_data[1]],y=nn,scales={'x': x_sc, 'y': y_sc},colors=['blue'])\n",
    "    Fin_horz_plot_alias = Lines(x=input_data,y=n5,scales={'x': x_sc, 'y': y_sc},colors=['blue'])\n",
    "    Nyquist_plot = Lines(x=[Nyquist,Nyquist],y=nn,scales={'x': x_sc, 'y': y_sc},colors=['red'])\n",
    "    \n",
    "    #Create tooltips for displaying data on hover\n",
    "    tt = Tooltip(fields=['x', 'y'], formats=['', '.2f'], labels=['Frequency', 'harmonic number'])\n",
    "    tt_fim = Tooltip(fields=['x'], formats=[''], labels=['Signal Frequency image'])\n",
    "    Nyquisttt = Tooltip(fields=['x'], formats=[''], labels=['Nyquist Frequency'])\n",
    "    \n",
    "    #Create data tip shapes\n",
    "    spurs.marker='square'\n",
    "    Fin_horz_plot.marker='square'\n",
    "    Nyquist_plot.marker='square'\n",
    "    \n",
    "    #Plot figure\n",
    "    fig = Figure(title='RFADC frequency plan',axes=[ax_x, ax_y], marks=[Fin_horz_plot,Fin_vert1_plot, Fin_vert2_plot,spurs,Nyquist_plot])\n",
    "    spurs.tooltip=tt\n",
    "    Fin_horz_plot.tooltip=tt_fim\n",
    "    Nyquist_plot.tooltip=Nyquisttt\n",
    "    tools=Toolbar(figure=fig)\n",
    "    \n",
    "    #Display figure and relevant tools\n",
    "    display(fig,tools)\n",
    "    "
   ]
  },
  {
   "cell_type": "code",
   "execution_count": 23,
   "metadata": {},
   "outputs": [
    {
     "data": {
      "application/vnd.jupyter.widget-view+json": {
       "model_id": "220f0ba480dc4c81ae5ce91476f6014d",
       "version_major": 2,
       "version_minor": 0
      },
      "text/plain": [
       "interactive(children=(FloatSlider(value=3932.16, description='Fs', max=7000.0, min=3900.0), FloatSlider(value=…"
      ]
     },
     "metadata": {},
     "output_type": "display_data"
    },
    {
     "data": {
      "text/plain": [
       "<function __main__.Plot_RFADC(Fs, Signal_center, Signal_Bandwidth)>"
      ]
     },
     "execution_count": 23,
     "metadata": {},
     "output_type": "execute_result"
    }
   ],
   "source": [
    "#Create sliders for selecting input information\n",
    "Fs_slider = widgets.FloatSlider(value=3932.16,min=3900,max=7000,step=0.1)\n",
    "Signal_Center_slider= widgets.FloatSlider(value=3500,min=100,max=4000,step=50)\n",
    "Signal_Bandwidth = widgets.FloatSlider(value=100,min=50,max=200,step=50)\n",
    "\n",
    "\n",
    "widgets.interact(Plot_RFADC,Fs=Fs_slider,Signal_center=Signal_Center_slider,Signal_Bandwidth=Signal_Bandwidth)\n"
   ]
  },
  {
   "cell_type": "code",
   "execution_count": null,
   "metadata": {},
   "outputs": [],
   "source": []
  },
  {
   "cell_type": "code",
   "execution_count": null,
   "metadata": {},
   "outputs": [],
   "source": []
  },
  {
   "cell_type": "markdown",
   "metadata": {
    "extensions": {
     "jupyter_dashboards": {
      "version": 1,
      "views": {
       "grid_default": {
        "col": 0,
        "height": 5,
        "row": 43,
        "width": 12
       },
       "report_default": {}
      }
     }
    }
   },
   "source": [
    "# 2) RFDAC frequency plan"
   ]
  },
  {
   "cell_type": "markdown",
   "metadata": {
    "extensions": {
     "jupyter_dashboards": {
      "version": 1,
      "views": {
       "grid_default": {
        "col": 0,
        "height": 3,
        "row": 50,
        "width": 12
       },
       "report_default": {}
      }
     }
    }
   },
   "source": [
    "The following chart provides the relevant information required for the RFDAC process."
   ]
  },
  {
   "cell_type": "markdown",
   "metadata": {
    "extensions": {
     "jupyter_dashboards": {
      "version": 1,
      "views": {
       "grid_default": {
        "col": 0,
        "height": 8,
        "row": 53,
        "width": 6
       },
       "report_default": {}
      }
     }
    }
   },
   "source": [
    "Move the FS slider to change the sampling frequency to desired level\n",
    "\n",
    "Move the Signal center slider to select the center of your signal band\n",
    "\n",
    "Finally move the Signal bandwidth slider to select the width of your received signal"
   ]
  },
  {
   "cell_type": "code",
   "execution_count": null,
   "metadata": {
    "extensions": {
     "jupyter_dashboards": {
      "version": 1,
      "views": {
       "grid_default": {
        "hidden": true
       },
       "report_default": {}
      }
     }
    }
   },
   "outputs": [],
   "source": [
    "#This function calculates the input signal and its image, to be displayed in the first two Nyquist zones\n",
    "#Requires 3 input arguments, set from sliders\n",
    "#Fs = Sampling Frequency, Signal_center = location of center of signal, Signal_bandwidth = Bandwidth of signal\n",
    "\n",
    "def DAC_Input_signal_calculator(Fs, Signal_center, Signal_Bandwidth):\n",
    "    \n",
    "    #Calculate low and high boundaries of signal\n",
    "    Fin_low = Signal_center - (Signal_Bandwidth/2)\n",
    "    Fin_High = Signal_center + (Signal_Bandwidth/2)\n",
    "    \n",
    "    #Calculate Nyquist rate\n",
    "    Nyquist = float(Fs/2)\n",
    "    \n",
    "    #Calculate K variable\n",
    "    if Fin_High <= Nyquist:\n",
    "        K = 0\n",
    "        \n",
    "    elif Fin_High <= Fs + Nyquist:\n",
    "        K = 1\n",
    "    \n",
    "    elif Fin_High <= 2*Fs + Nyquist:\n",
    "        K = 2\n",
    "        \n",
    "    elif Fin_High <= 3*Fs + Nyquist:\n",
    "        K = 3\n",
    "        \n",
    "    else:\n",
    "        K = 4        \n",
    "        \n",
    "    #Calculate input alias\n",
    "    Low_Input = (Fin_low - Fs*K)\n",
    "    High_Input = (Fin_High - Fs*K)\n",
    "    \n",
    "    print(\"Low input\",Low_Input)\n",
    "    print(\"high input\",High_Input)\n",
    "    \n",
    "    #Mirror input if value is negative\n",
    "    if Low_Input < 0:\n",
    "        Low_Input=Low_Input*-1\n",
    "        print(\"input is mirrored\",Low_Input)\n",
    "        High_Input=High_Input*-1\n",
    "        print(\"input is mirrored\",High_Input)    \n",
    "        \n",
    "        \n",
    "    if  Fin_High < Nyquist:\n",
    "        Low_Input=Fs-Fin_low\n",
    "        print(\"input is mirrored\",Low_Input)\n",
    "        High_Input=Fs-Fin_High\n",
    "        print(\"input is mirrored\",High_Input)   \n",
    "        \n",
    "    #Return signal and its alias\n",
    "    return [Fin_low, Fin_High,Low_Input, High_Input]\n",
    " "
   ]
  },
  {
   "cell_type": "code",
   "execution_count": null,
   "metadata": {
    "extensions": {
     "jupyter_dashboards": {
      "version": 1,
      "views": {
       "grid_default": {
        "col": 6,
        "height": 7,
        "row": 53,
        "width": 4
       },
       "report_default": {}
      }
     }
    }
   },
   "outputs": [],
   "source": [
    "#This function will calculate the spurs due to the signal and their images\n",
    "def Spur_Calculator(Fs, Signal_center, Signal_Bandwidth):\n",
    "\n",
    "    #Call DAC inut function\n",
    "    Input_info = DAC_Input_signal_calculator(Fs,Signal_center,Signal_Bandwidth)\n",
    "    Nyquist = Fs/2\n",
    "    #Set low and high boundaries to values from DAC function call\n",
    "    fin_low = Input_info[0]\n",
    "    fin_high = Input_info[1]\n",
    "    print(\"This is high\",fin_high)\n",
    "    \n",
    "    #Create list for storing spur values\n",
    "    HDlist=[]\n",
    "        \n",
    "    #For loop for calculating spurs HD2 upto HD5\n",
    "    for n in range (2,6,1):\n",
    "       \n",
    "        if fin_high*n <= Nyquist:\n",
    "            K = 0\n",
    "        \n",
    "        elif fin_high*n <= Fs + Nyquist:\n",
    "            K = 1\n",
    "    \n",
    "        elif fin_high*n <= 2*Fs + Nyquist:\n",
    "            K = 2\n",
    "        \n",
    "        elif fin_high*n <= 3*Fs + Nyquist:\n",
    "            K = 3\n",
    "        \n",
    "        elif fin_high*n <= 4*Fs + Nyquist:\n",
    "            K = 4\n",
    "            \n",
    "        elif fin_high*n <= 5*Fs + Nyquist:\n",
    "            K = 5\n",
    "        else:\n",
    "            K = 6\n",
    "        \n",
    "        print(fin_high*n)\n",
    "        print(\"K check\",K)\n",
    "        \n",
    "        #Calculate spur locations\n",
    "        HDn_high = (fin_high *n) - (Fs*K)\n",
    "        HDn_low = (fin_low *n) - (Fs*K)\n",
    "        \n",
    "        #mirror signal\n",
    "        if HDn_high < 0:\n",
    "            HDn_high = HDn_high*-1\n",
    "        \n",
    "        \n",
    "        if HDn_low < 0:\n",
    "            HDn_low = HDn_low*-1\n",
    "        \n",
    "        \n",
    "        print(HDn_high)\n",
    "        print(HDn_low)\n",
    "\n",
    "        if HDn_high <= 0:        #IF HDn is negative, mirror result \n",
    "\n",
    "                    Mirror_HDn_low = HDn_low * -1;\n",
    "                    Mirror_HDn_high = HDn_high * -1;\n",
    "                 \n",
    "           #  print(\"mirrorRange of HD\",n, \"is\", Mirror_HDn_Higher, \"to\", Mirror_HDn_Lower); # print range\n",
    "                    temp_list = (Mirror_HDn_low,Mirror_HDn_high) \n",
    "                    HDlist.append(temp_list)        #Update list with calculated values                 \n",
    "        \n",
    "        elif  Nyquist <= HDn_high:\n",
    "            HDn_high = Nyquist\n",
    "            temp_list = (HDn_low,HDn_high)\n",
    "        else:\n",
    "            # print(\"Range of HD\",n, \" is\", HDn_Lower, \"to\", HDn_Higher); #Print range\n",
    "                    temp_list = (HDn_high,HDn_low)\n",
    "                    HDlist.append(temp_list)        #Update list with calculated values\n",
    "\n",
    "    #Set spur locations\n",
    "    HD2_value = [HDlist[0][0], HDlist[0][1]]\n",
    "    HD3_value = [HDlist[1][0], HDlist[1][1]]\n",
    "    HD4_value = [HDlist[2][0], HDlist[2][1]]\n",
    "    HD5_value = [HDlist[3][0], HDlist[3][1]]\n",
    "    \n",
    "    #Set spur image locations: Fs-spur locations = spur image location\n",
    "    Ny_HD2 = [Fs-HDlist[0][0], Fs-HDlist[0][1]]\n",
    "    Ny_HD3 = [Fs-HDlist[1][0], Fs-HDlist[1][1]]\n",
    "    Ny_HD4 = [Fs-HDlist[2][0], Fs-HDlist[2][1]]\n",
    "    Ny_HD5 = [Fs-HDlist[3][0], Fs-HDlist[3][1]]\n",
    "    \n",
    "\n",
    "    print(HD2_value)\n",
    "    print(HD3_value)\n",
    "    print(HD4_value)\n",
    "    print(HD5_value)\n",
    "    print(Ny_HD2)\n",
    "    print(Ny_HD3)\n",
    "    print(Ny_HD4)\n",
    "    print(Ny_HD5)\n",
    "    \n",
    "    #Return spurs and their images\n",
    "    return [HD2_value,HD3_value,HD4_value,HD5_value,Ny_HD2,Ny_HD3,Ny_HD4,Ny_HD5]\n"
   ]
  },
  {
   "cell_type": "code",
   "execution_count": null,
   "metadata": {},
   "outputs": [],
   "source": [
    "def Plot_RFDAC(Fs,Signal_center,Signal_Bandwidth):\n",
    "    \n",
    "    Input_plot = DAC_Input_signal_calculator(Fs, Signal_center, Signal_Bandwidth)\n",
    "    print(\"check input plot\",Input_plot)\n",
    "    Spur_plot = Spur_Calculator(Fs,Signal_center,Signal_Bandwidth)\n",
    "    Nyquist = Fs/2\n",
    "    \n",
    "    #y-coordinates\n",
    "    n1 = [5]\n",
    "    n2 = [2,2]\n",
    "    n3 = [3,3]\n",
    "    n4 = [4,4]\n",
    "    n5 = [5,5]\n",
    "    nn = [5,0]\n",
    "    \n",
    "    #Set x and y data used for plotting\n",
    "    spur_data = [Spur_plot[0],Spur_plot[1],Spur_plot[2],Spur_plot[3],Spur_plot[4],Spur_plot[5],Spur_plot[6],Spur_plot[7]]\n",
    "    input_data = [Input_plot[2],Input_plot[3]]\n",
    "    input_alias = [Input_plot[0],Input_plot[1]]\n",
    "    #x_data2 = [HD22, HD32, HD42, HD52]\n",
    "    y_data = [n2, n3, n4, n5,n2,n3,n4,n5]\n",
    "\n",
    "    \n",
    "    \n",
    "    x_sc = LinearScale()\n",
    "    y_sc = LinearScale()\n",
    "    ax_x = Axis(label='Frequency(MHz)', scale=x_sc, tick_format='0.0f')\n",
    "    ax_y = Axis(label='Harmonic numbers', scale=y_sc,\n",
    "               orientation='vertical', tick_format='0.2f')\n",
    "    \n",
    "    #Create lines for plotting\n",
    "    spurs = Lines(x=spur_data,y=y_data,scales={'x': x_sc, 'y': y_sc}, colors=['green','cyan','purple','yellow','green','cyan','purple','yellow'],enable_move=False,\n",
    "                   hovered_style={'opacity': 1.0, 'fill': 'DarkOrange', 'stroke': 'Red'},\n",
    "                   unhovered_style={'opacity': 0.5})\n",
    "    Fin_horz_plot = Lines(x=input_data,y=n5,scales={'x': x_sc, 'y': y_sc},colors=['blue'])\n",
    "    Fin_vert1_plot = Lines(x=[input_data[0],input_data[0]],y=nn,scales={'x': x_sc, 'y': y_sc},colors=['blue'])\n",
    "    Fin_vert2_plot = Lines(x=[input_data[1],input_data[1]],y=nn,scales={'x': x_sc, 'y': y_sc},colors=['blue'])\n",
    "    Fin_horz_plot_alias = Lines(x=input_alias,y=n5,scales={'x': x_sc, 'y': y_sc},colors=['blue'])\n",
    "    Fin_vert1_plot_alias = Lines(x=[input_alias[0],input_alias[0]],y=nn,scales={'x': x_sc, 'y': y_sc},colors=['blue'])\n",
    "    Fin_vert2_plot_alias = Lines(x=[input_alias[1],input_alias[1]],y=nn,scales={'x': x_sc, 'y': y_sc},colors=['blue'])\n",
    "    Nyquist_plot = Lines(x=[Nyquist,Nyquist],y=nn,scales={'x': x_sc, 'y': y_sc},colors=['red'])\n",
    "    \n",
    "    tt = Tooltip(fields=['x', 'y'], formats=['', '.2f'], labels=['Frequency', 'harmonic number'])\n",
    "    \n",
    "    tt_fim = Tooltip(fields=['x'], formats=[''], labels=['Signal Frequency image'])\n",
    "    tt3 = Tooltip(fields=['x'], formats=[''], labels=['Signal Frequency'])\n",
    "    Nyquisttt = Tooltip(fields=['x'], formats=[''], labels=['Nyquist Frequency'])\n",
    "    spurs.marker='square'\n",
    "    Fin_horz_plot.marker='square'\n",
    "    Fin_horz_plot_alias.marker='square'\n",
    "    Nyquist_plot.marker='square'\n",
    "    #Plot\n",
    "    fig = Figure(title='RFDAC frequency plan',axes=[ax_x, ax_y], marks=[Fin_horz_plot_alias,Fin_vert1_plot_alias,Fin_vert2_plot_alias,Fin_horz_plot,Fin_vert1_plot, Fin_vert2_plot,spurs,Nyquist_plot])\n",
    "    spurs.tooltip=tt\n",
    "    Fin_horz_plot.tooltip=tt_fim\n",
    "    Fin_horz_plot_alias.tooltip=tt3\n",
    "    Nyquist_plot.tooltip=Nyquisttt\n",
    "    tools=Toolbar(figure=fig)\n",
    "\n",
    "    display(fig,tools)"
   ]
  },
  {
   "cell_type": "code",
   "execution_count": null,
   "metadata": {},
   "outputs": [],
   "source": [
    "#Create sliders for selecting input information\n",
    "Fs_slider = widgets.FloatSlider(value=3932.16,min=3900,max=4000,step=0.1)\n",
    "Signal_Center_slider= widgets.FloatSlider(value=3500,min=100,max=4000,step=50)\n",
    "Signal_Bandwidth = widgets.FloatSlider(value=100,min=50,max=200,step=50)\n",
    "\n",
    "#Link widgets to plotting function, allows live updating of graph on information change\n",
    "widgets.interact(Plot_RFDAC,Fs=Fs_slider,Signal_center=Signal_Center_slider,Signal_Bandwidth=Signal_Bandwidth)"
   ]
  },
  {
   "cell_type": "markdown",
   "metadata": {
    "extensions": {
     "jupyter_dashboards": {
      "version": 1,
      "views": {
       "grid_default": {
        "col": 0,
        "height": 2,
        "row": 68,
        "width": 12
       },
       "report_default": {}
      }
     }
    }
   },
   "source": [
    "#  3) DUC Spectrum"
   ]
  },
  {
   "cell_type": "markdown",
   "metadata": {
    "extensions": {
     "jupyter_dashboards": {
      "version": 1,
      "views": {
       "grid_default": {
        "col": 0,
        "height": 2,
        "row": 70,
        "width": 12
       },
       "report_default": {}
      }
     }
    }
   },
   "source": [
    "The following spectrum will display the relevevant information for the Digital up conversion process.\n",
    "If mix mode is on Nyquist zone 2 will show the relevant spurs.\n",
    "If normal mode is on Nyquist zone 1 will show the relevant spurs. \n",
    "The spectrum shows both Nyquist zones so user does not need to make changes depending on which mode they operate."
   ]
  },
  {
   "cell_type": "markdown",
   "metadata": {},
   "source": [
    "The Fs slider will select the users desired Sampling Frequency\n",
    "The Frequency_in slider will select the desired input signal\n",
    "The NCO slider will select how much the input signal has been shifted by the NCO\n",
    "The HD2/HD3 noise sliders will select the noise level for the harmonic spurs in dB"
   ]
  },
  {
   "cell_type": "code",
   "execution_count": null,
   "metadata": {
    "extensions": {
     "jupyter_dashboards": {
      "version": 1,
      "views": {
       "grid_default": {
        "hidden": true
       },
       "report_default": {}
      }
     }
    }
   },
   "outputs": [],
   "source": [
    "def DUC_spur_calculator(Fs, Frequency_in, NCO):\n",
    "    \n",
    "    Nyquist = float(Fs / 2)      #Calculate Nyquist rate\n",
    "    Fundamental = NCO + Frequency_in\n",
    "    F_image_calc = Fundamental - Fs\n",
    "\n",
    "    print(F_image_calc)\n",
    "    if  Nyquist < F_image_calc:\n",
    "        F_image = F_image_calc-Fs\n",
    "        F_image = F_image *-1\n",
    "    \n",
    "    \n",
    "    print(\"The freq in\", Frequency_in)\n",
    "    print(\"sample\", Fs)\n",
    "    \n",
    "    Nyquist = Fs/2 #Calculate Nyquist value\n",
    "    HDlist = [] #Create a list for storing loop values\n",
    "    \n",
    "    # Calculate K variable, K increases as conditions are met\n",
    "    \n",
    "    for n in range (2,4,1):\n",
    "       \n",
    "        print(\"fincheck\",Frequency_in*n)\n",
    "        \n",
    "        if Fundamental*n < Nyquist:\n",
    "            K = 0\n",
    "        \n",
    "        elif Fundamental*n <= Fs + Nyquist:\n",
    "            K = 1\n",
    "    \n",
    "        elif Fundamental*n <= 2*Fs + Nyquist:\n",
    "            K = 2\n",
    "        \n",
    "        elif Fundamental*n <= 3*Fs + Nyquist:\n",
    "            K = 3\n",
    "        \n",
    "        elif Fundamental*n <= 4*Fs + Nyquist:\n",
    "            K = 4\n",
    "            \n",
    "        elif Fundamental*n <= 5*Fs + Nyquist:\n",
    "            K = 5\n",
    "        else:\n",
    "            K = 6\n",
    "        \n",
    "        print(\"K check\",K)\n",
    "        HDn = (Fundamental *n) - (Fs*K)\n",
    "        \n",
    "        if HDn < 0:\n",
    "            HDn = HDn*-1\n",
    "        print(\"original\",HDn)\n",
    "\n",
    "\n",
    "        if HDn <= 0:        #IF HDn is negative, mirror result \n",
    "\n",
    "                    Mirror_HDn = HDn * -1;\n",
    "                 \n",
    "                    temp_list = (Mirror_HDn) \n",
    "                    HDlist.append(temp_list)        #Update list with calculated values                 \n",
    "        else:\n",
    "                    temp_list = (HDn)\n",
    "                    HDlist.append(temp_list)        #Update list with calculated values\n",
    "\n",
    "    \n",
    "    HD2_value = HDlist[0]\n",
    "    HD3_value = HDlist[1]\n",
    "    \n",
    "    return [HD2_value, HD3_value]\n"
   ]
  },
  {
   "cell_type": "code",
   "execution_count": null,
   "metadata": {
    "extensions": {
     "jupyter_dashboards": {
      "version": 1,
      "views": {
       "grid_default": {
        "col": 0,
        "height": 2,
        "row": 72,
        "width": 12
       },
       "report_default": {}
      }
     }
    }
   },
   "outputs": [],
   "source": [
    "def Plot_DUC(Fs,Frequency_in,NCO,HD2_noise,HD3_noise):\n",
    "   \n",
    "    Nyquist = float(Fs / 2)      #Calculate Nyquist rate\n",
    "    Fundamental = NCO + Frequency_in\n",
    "    F_image = Fundamental - Fs\n",
    "\n",
    "    print(F_image)\n",
    "-1\n",
    "        \n",
    "    if  Nyquist < F_image:\n",
    "        F_image = F_image-Fs\n",
    "        F_image = F_image *-1\n",
    "    \n",
    "    HD = DUC_spur_calculator(Fs,Frequency_in,NCO)\n",
    "\n",
    "    HD2 = HD[0]\n",
    "    HD3 = HD[1]\n",
    "    \n",
    "    x_plot_HD2 = [HD2, HD2]\n",
    "    x_plot_HD3 = [HD3, HD3]\n",
    "\n",
    "    y_plot_HD2 = [-1*HD2_noise,-100]\n",
    "    y_plot_HD3 = [-1*HD3_noise,-100]\n",
    "    \n",
    "    x_data = [x_plot_HD2,x_plot_HD3]\n",
    "    y_data = [y_plot_HD2,y_plot_HD3]\n",
    "    fund_x = [Fundamental,Fundamental]\n",
    "    fim_x = [F_image, F_image]\n",
    "    Fs_x = [Fs,Fs]\n",
    "    fund_y = [0,-100]\n",
    "    Nyquist1 = [Nyquist,Nyquist]\n",
    "    \n",
    "    x_sc = LinearScale()\n",
    "    y_sc = LinearScale()\n",
    "    ax_x = Axis(label='Frequency(MHz)', scale=x_sc, tick_format='0.0f')\n",
    "    ax_y = Axis(label='Amplitude(dB)', scale=y_sc,\n",
    "               orientation='vertical', tick_format='0.2f')\n",
    "    \n",
    "    #Create lines for plotting\n",
    "    spurs = Lines(x=x_data,y=y_data,scales={'x': x_sc, 'y': y_sc}, colors=['cyan','pink'],enable_move=False,\n",
    "                   hovered_style={'opacity': 1.0, 'fill': 'DarkOrange', 'stroke': 'Red'},\n",
    "                   unhovered_style={'opacity': 0.5},labels=['HD2','HD3'],display_legend=True)\n",
    "    Fundamental_plot = Lines(x=fund_x,y=fund_y,scales={'x': x_sc, 'y': y_sc},colors=['blue'],labels=['Fundamental'],display_legend=True)\n",
    "    Fim_plot = Lines(x=fim_x,y=fund_y,scales={'x': x_sc, 'y': y_sc},colors=['green'],labels=['F image'],display_legend=True)\n",
    "    Nyquist_plot = Lines(x=Nyquist1,y=fund_y,scales={'x': x_sc, 'y': y_sc},colors=['red'],labels=['Nyquist'],display_legend=True)\n",
    "    Fs_plot = Lines(x=Fs_x,y=fund_y,scales={'x': x_sc, 'y': y_sc},colors=['orange'],labels=['Fs'],display_legend=True)\n",
    "   \n",
    "    tt = Tooltip(fields=['x', 'y'], formats=['', '.2f'], labels=['Frequency', 'dB level'])\n",
    "\n",
    "    tt3 = Tooltip(fields=['x'], formats=[''], labels=['Frequency'])\n",
    "    Nyquisttt = Tooltip(fields=['x'], formats=[''], labels=['Nyquist Frequency'])\n",
    "    \n",
    "    spurs.marker='square'\n",
    "    Fundamental_plot.marker='diamond'\n",
    "    Fim_plot.marker='diamond'\n",
    "    Fs_plot.marker='cross'\n",
    "    Nyquist_plot.marker = 'cross'\n",
    "\n",
    "    \n",
    "    fig = Figure(title='DUC Spectrum',axes=[ax_x, ax_y], marks=[spurs,Fundamental_plot,Fs_plot,Nyquist_plot,Fim_plot],\n",
    "                     display_legend=True)\n",
    "\n",
    "    labels = ['spurs','Fundamental_plot','Fs_plot','Nyquist_plot','Fim_plot']\n",
    "    \n",
    "    spurs.tooltip=tt\n",
    "    Fundamental_plot.tooltip=tt\n",
    "    Nyquist_plot.tooltip=Nyquisttt\n",
    "    Fs_plot.tooltip=tt\n",
    "    Fim_plot.tooltip=tt\n",
    "    tools=Toolbar(figure=fig)\n",
    "    \n",
    "        \n",
    "    display(fig, tools)"
   ]
  },
  {
   "cell_type": "code",
   "execution_count": null,
   "metadata": {
    "extensions": {
     "jupyter_dashboards": {
      "version": 1,
      "views": {
       "grid_default": {
        "hidden": true
       },
       "report_default": {}
      }
     }
    }
   },
   "outputs": [],
   "source": [
    "Fs_slider = widgets.FloatSlider(value=3932.16,min=1900,max=4000,step=100)\n",
    "Signal_Center_slider = widgets.FloatSlider(value=3500,min=100,max=4000,step=50)\n",
    "NCO_slider = widgets.FloatSlider(value=3500,min=100,max=4000, step = 50)\n",
    "HD2_slider = widgets.FloatSlider(value=10, min=0, max=200, step = 10)\n",
    "HD3_slider = widgets.FloatSlider(value=10, min=0, max=200, step = 10)\n",
    "widgets.interact(Plot_DUC,Fs=Fs_slider,Frequency_in=Signal_Center_slider,NCO=NCO_slider,HD2_noise=HD2_slider,HD3_noise=HD3_slider)"
   ]
  },
  {
   "cell_type": "markdown",
   "metadata": {
    "extensions": {
     "jupyter_dashboards": {
      "version": 1,
      "views": {
       "grid_default": {
        "hidden": true
       },
       "report_default": {}
      }
     }
    }
   },
   "source": [
    "# DDC Spectrum"
   ]
  },
  {
   "cell_type": "markdown",
   "metadata": {
    "extensions": {
     "jupyter_dashboards": {
      "version": 1,
      "views": {
       "grid_default": {
        "hidden": true
       },
       "report_default": {}
      }
     }
    }
   },
   "source": [
    "The following spectrum displays the relevant information for the Digital down conversion process. Note the values displayed are the decimated values. Any values exceeding the decimated Nquist value are folded back until they are present in the display band.\n",
    "\n",
    "The Fs slider will select the users desired Sampling Frequency\n",
    "The Frequency_in slider will select the desired input signal\n",
    "The NCO slider will select how much the input signal has been shifted by the NCO\n",
    "The HD2/HD3 noise sliders will select the noise level for the harmonic spurs in dB\n",
    "The radio button for Decimation selects the decimation factor of the signal\n",
    "The radio button for int_ADC selects the number of interleaved ADC's the user has"
   ]
  },
  {
   "cell_type": "code",
   "execution_count": null,
   "metadata": {},
   "outputs": [],
   "source": [
    "def Equation_calculator(Fs, Frequency_in, NCO, Decimation , Interleaved_ADC):\n",
    "    \n",
    "    print(\"The freq in\", Frequency_in)\n",
    "    print(\"sample\", Fs)\n",
    "    print(\"NCO\",NCO)\n",
    "    \n",
    "    Nyquist = Fs/2 #Calculate Nyquist value\n",
    "    \n",
    "    # Calculate K variable, K increases as conditions are met\n",
    "    \n",
    "    if Frequency_in < Nyquist:\n",
    "        K=0\n",
    "        \n",
    "    elif Frequency_in > Nyquist:\n",
    "        K = 1\n",
    "        \n",
    "    elif Frequency_in > Fs + Nyquist:\n",
    "        K = 2\n",
    "    \n",
    "    elif Frequency_in > 2*Fs + Nyquist:\n",
    "        K = 3\n",
    "        \n",
    "    elif Frequency_in > 3*Fs + Nyquist:\n",
    "        K = 4\n",
    "        \n",
    "    else:\n",
    "        K = 5\n",
    "        \n",
    "    ## Potentially add error statement if input frequency reaches unrealistic value \n",
    "    \n",
    "    #Calculate input alias before NCO shift\n",
    "    Input = (Frequency_in - Fs*K)\n",
    "    \n",
    "    #Mirror input if value is negative\n",
    "    if Input < 0:\n",
    "        Input=Input*-1\n",
    "        print(\"input is mirrored\",Input)\n",
    "     \n",
    "    #Shift input by NCO\n",
    "    Input_NCO = (Input) - NCO\n",
    "    \n",
    "    #Calculate final Answer for input alias \n",
    "    Answer = Input_NCO + (Interleaved_ADC * Fs/Decimation)\n",
    "    print(\"This is answer\",Answer)\n",
    "    if Answer < 0:\n",
    "        Answer = Answer * -1\n",
    "    print(\"new answer\",Answer)\n",
    "    \n",
    "    #Use decimated Nyquist and Fs values for calculating signal in 1st decimated Nyquist zone\n",
    "    Decimated_Nyquist = Nyquist/Decimation\n",
    "    Decimated_Fs = Fs/Decimation\n",
    "    \n",
    "    print(\"Decimated Nyquist\",Decimated_Nyquist)\n",
    "    print(\"Decimated Fs\",Decimated_Fs)\n",
    "    \n",
    "    #Use following process to continuously subtract decimated FS until value is displayed in first decimated Nyquist zone\n",
    "    stopprocess = False\n",
    "\n",
    "    while stopprocess == False:\n",
    "\n",
    "        if Answer > Decimated_Nyquist:\n",
    "            Answer = Answer-Decimated_Fs\n",
    "            \n",
    "            #Set to true when value is below decimated Nyquist\n",
    "            if Answer < Decimated_Nyquist:\n",
    "                stopprocess = True\n",
    "             \n",
    "    print(\"in alias\",Answer)\n",
    "   \n",
    "    return Answer"
   ]
  },
  {
   "cell_type": "code",
   "execution_count": null,
   "metadata": {},
   "outputs": [],
   "source": [
    "def DDC_spur_calculator(Fs, Frequency_in, NCO, Decimation , Interleaved_ADC):\n",
    "    \n",
    "    print(\"The freq in\", Frequency_in)\n",
    "    print(\"sample\", Fs)\n",
    "    \n",
    "    Nyquist = Fs/2 #Calculate Nyquist value\n",
    "    HDlist = [] #Create a list for storing loop values\n",
    "    \n",
    "    # Calculate K variable, K increases as conditions are met\n",
    "    \n",
    "    for n in range (2,4,1):\n",
    "       \n",
    "        print(\"fincheck\",Frequency_in*n)\n",
    "        \n",
    "        if Frequency_in*n < Nyquist:\n",
    "            K = 0\n",
    "        \n",
    "        elif Frequency_in*n <= Fs + Nyquist:\n",
    "            K = 1\n",
    "    \n",
    "        elif Frequency_in*n <= 2*Fs + Nyquist:\n",
    "            K = 2\n",
    "        \n",
    "        elif Frequency_in*n <= 3*Fs + Nyquist:\n",
    "            K = 3\n",
    "        \n",
    "        else:\n",
    "            K = 4\n",
    "        \n",
    "        print(\"K check\",K)\n",
    "        hdn_orig = (Frequency_in*n) - (Fs*K)\n",
    "        \n",
    "        if hdn_orig < 0:\n",
    "            hdn_orig = hdn_orig*-1\n",
    "        print(\"original\",hdn_orig)\n",
    "        hd_NCO = hdn_orig - NCO\n",
    "        print(\"NCO\",hd_NCO)\n",
    "        #Calculate final Answer for input alias \n",
    "        Answer = hd_NCO + (Interleaved_ADC * Fs/Decimation)\n",
    "        \n",
    "        print(\"This is answer\",Answer)\n",
    "        \n",
    "        Decimated_Nyquist = Nyquist/Decimation\n",
    "        Decimated_Fs = Fs/Decimation\n",
    "    \n",
    "        \n",
    "        #Use following process to continuously subtract decimated FS until value is displayed in first decimated Nyquist zone\n",
    "        stopprocess = False\n",
    "\n",
    "        while stopprocess == False:\n",
    "            if Answer > Decimated_Nyquist:\n",
    "                Answer = Answer-Decimated_Fs\n",
    "            \n",
    "            #Set to true when value is below decimated Nyquist\n",
    "                if Answer < Decimated_Nyquist:\n",
    "                    stoprocess = True\n",
    "                    temp_list = (Answer)\n",
    "                    HDlist.append(temp_list) \n",
    "                    print(\"Final_HD\",Answer)\n",
    "                    Answer = 0\n",
    "                    print(\"this is answer 2\",Answer)\n",
    "                    break\n",
    "        \n",
    "\n",
    "    \n",
    "    HD2_value = HDlist[0]\n",
    "    HD3_value = HDlist[1]\n",
    "    \n",
    "    return [HD2_value, HD3_value]\n"
   ]
  },
  {
   "cell_type": "code",
   "execution_count": null,
   "metadata": {},
   "outputs": [],
   "source": [
    "def Plot_DDC(Fs, Frequency_in,NCO,HD2_noise,HD3_noise, Decimation, Interleaved_ADC):\n",
    "    \n",
    "    Nyquist = Fs/2\n",
    "    Decimated_Nyquist = Nyquist/Decimation\n",
    "    print(Decimation)\n",
    "    print(Interleaved_ADC)\n",
    "    \n",
    "    input_alias = Equation_calculator(Fs,Frequency_in,NCO,Decimation,Interleaved_ADC)\n",
    "    print(input_alias)\n",
    "    \n",
    "    HD = DDC_spur_calculator(Fs,Frequency_in,NCO, Decimation, Interleaved_ADC)\n",
    "    print(HD)\n",
    "    print(\"HD2\",HD[0])\n",
    "    print(\"HD3\",HD[1])\n",
    "    \n",
    "    ##\n",
    "    \n",
    "    y_plot_HD2 = [-1*HD2_noise,-100]\n",
    "    y_plot_HD3 = [-1*HD3_noise,-100]\n",
    "\n",
    "    HD2 = HD[0]\n",
    "    HD3 = HD[1]\n",
    "    \n",
    "    x_plot_HD2 = [HD2, HD2]\n",
    "    x_plot_HD3 = [HD3, HD3]\n",
    "    \n",
    "    x_data = [x_plot_HD2,x_plot_HD3]\n",
    "    y_data = [y_plot_HD2,y_plot_HD3]\n",
    "    f_in = [input_alias,input_alias]\n",
    "    #fim_x = [F_image, F_image]\n",
    "    fund_y = [0,-100]\n",
    "    Decimated_Nyquist_plot = [Decimated_Nyquist,Decimated_Nyquist]\n",
    "    \n",
    "    x_sc = LinearScale()\n",
    "    y_sc = LinearScale()\n",
    "    ax_x = Axis(label='Frequency(MHz)', scale=x_sc, tick_format='0.0f')\n",
    "    ax_y = Axis(label='Amplitude(dB)', scale=y_sc,\n",
    "               orientation='vertical', tick_format='0.2f')\n",
    "    \n",
    "    #Create lines for plotting\n",
    "    spurs = Lines(x=x_data,y=y_data,scales={'x': x_sc, 'y': y_sc}, colors=['cyan','cyan'],enable_move=False,\n",
    "                   hovered_style={'opacity': 1.0, 'fill': 'DarkOrange', 'stroke': 'Red'},\n",
    "                   unhovered_style={'opacity': 0.5})\n",
    "    f_in = Lines(x=f_in,y=fund_y,scales={'x': x_sc, 'y': y_sc},colors=['blue'])\n",
    "    #Fim_plot = Lines(x=fim_x,y=fund_y,scales={'x': x_sc, 'y': y_sc},colors=['blue'])\n",
    "    Decimated_Nyquist_plot = Lines(x=Decimated_Nyquist_plot,y=fund_y,scales={'x': x_sc, 'y': y_sc},colors=['red'])\n",
    "    #Fs_plot = Lines(x=Fs_x,y=fund_y,scales={'x': x_sc, 'y': y_sc},colors=['red'])\n",
    "   \n",
    "    tt = Tooltip(fields=['x', 'y'], formats=['', '.2f'], labels=['Frequency', 'dB level'])\n",
    "\n",
    "    tt3 = Tooltip(fields=['x'], formats=[''], labels=['Frequency'])\n",
    "    \n",
    "    spurs.marker='square'\n",
    "    f_in.marker='diamond'\n",
    "    #Fim_plot.marker='diamond'\n",
    "    #Fs_plot.marker='cross'\n",
    "    Decimated_Nyquist_plot.marker = 'cross'\n",
    "\n",
    "    \n",
    "    fig = Figure(title='DDC Spectrum',axes=[ax_x, ax_y], marks=[spurs,f_in,Decimated_Nyquist_plot])\n",
    "    \n",
    "    spurs.tooltip=tt\n",
    "    f_in.tooltip=tt\n",
    "    Decimated_Nyquist_plot.tooltip=tt\n",
    "    #Fim_plot.tooltip=tt\n",
    "    tools=Toolbar(figure=fig)\n",
    "    \n",
    "        \n",
    "    display(fig, tools)"
   ]
  },
  {
   "cell_type": "code",
   "execution_count": null,
   "metadata": {},
   "outputs": [],
   "source": [
    "#Create slider widgets to control variables\n",
    "Fs_slider = widgets.FloatSlider(value=2000,min=1900,max=4000,step=100)\n",
    "Frequency_in_slider = widgets.FloatSlider(value=500,min=100,max=4000,step=50)\n",
    "NCO_slider = widgets.FloatSlider(value=1900, min=100, max=4000, step = 100)\n",
    "HD2_slider = widgets.FloatSlider(value=10, min=0, max=200, step = 10)\n",
    "HD3_slider = widgets.FloatSlider(value=10, min=0, max=200, step = 10)\n",
    "\n",
    "#Create button widgets to control variables\n",
    "Decimation_buttons = widgets.RadioButtons(\n",
    "    options=[2,4,8,12],\n",
    "    value=8,\n",
    "    description='Decimation:',\n",
    "    disabled=False\n",
    ")\n",
    "\n",
    "Interleaved_ADC_buttons = widgets.RadioButtons(\n",
    "    options=[4,8],\n",
    "    value=8,\n",
    "    description='Int ADCs:',\n",
    "    disabled=False\n",
    ")\n"
   ]
  },
  {
   "cell_type": "code",
   "execution_count": null,
   "metadata": {},
   "outputs": [],
   "source": [
    "#Allow widgets to interact with DDC plot\n",
    "widgets.interact(Plot_DDC,Fs=Fs_slider,Frequency_in=Frequency_in_slider,NCO=NCO_slider, HD2_noise = HD2_slider, HD3_noise = HD3_slider, Decimation=Decimation_buttons, Interleaved_ADC=Interleaved_ADC_buttons)"
   ]
  },
  {
   "cell_type": "code",
   "execution_count": null,
   "metadata": {},
   "outputs": [],
   "source": []
  },
  {
   "cell_type": "code",
   "execution_count": null,
   "metadata": {},
   "outputs": [],
   "source": []
  },
  {
   "cell_type": "code",
   "execution_count": null,
   "metadata": {},
   "outputs": [],
   "source": []
  },
  {
   "cell_type": "code",
   "execution_count": null,
   "metadata": {},
   "outputs": [],
   "source": []
  },
  {
   "cell_type": "code",
   "execution_count": null,
   "metadata": {},
   "outputs": [],
   "source": []
  }
 ],
 "metadata": {
  "extensions": {
   "jupyter_dashboards": {
    "activeView": "grid_default",
    "version": 1,
    "views": {
     "grid_default": {
      "cellMargin": 10,
      "defaultCellHeight": 20,
      "maxColumns": 12,
      "name": "grid",
      "type": "grid"
     },
     "report_default": {
      "name": "report",
      "type": "report"
     }
    }
   }
  },
  "kernelspec": {
   "display_name": "Python 3",
   "language": "python",
   "name": "python3"
  },
  "language_info": {
   "codemirror_mode": {
    "name": "ipython",
    "version": 3
   },
   "file_extension": ".py",
   "mimetype": "text/x-python",
   "name": "python",
   "nbconvert_exporter": "python",
   "pygments_lexer": "ipython3",
   "version": "3.7.8"
  }
 },
 "nbformat": 4,
 "nbformat_minor": 4
}
